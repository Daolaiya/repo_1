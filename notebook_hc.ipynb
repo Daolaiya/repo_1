{
 "cells": [
  {
   "cell_type": "markdown",
   "id": "3422b457",
   "metadata": {},
   "source": [
    "# Happy Customers\n",
    "## Introduction\n",
    "**Background:**\n",
    "- We are one of the fastest growing startups in the logistics and delivery domain. We work with several partners and make on-demand delivery to our customers. During the COVID-19 pandemic, we are facing several different challenges and everyday we are trying to address these challenges.\n",
    "- We thrive on making our customers happy. As a growing startup, with a global expansion strategy we know that we need to make our customers happy and the only way to do that is to measure how happy each customer is. If we can predict what makes our customers happy or unhappy, we can then take necessary actions.\n",
    "- Getting feedback from customers is not easy either, but we do our best to get constant feedback from our customers. This is a crucial function to improve our operations across all levels.\n",
    "- We recently did a survey to a select customer cohort. You are presented with a subset of this data. We will be using the remaining data as a private test set.\n",
    "\n",
    "**Data Description:**  \n",
    "The data can be described as follows:\n",
    "- Y = target attribute (Y) with values indicating 0 (unhappy) and 1 (happy) customers\n",
    "- X1 = my order was delivered on time\n",
    "- X2 = contents of my order was as I expected\n",
    "- X3 = I ordered everything I wanted to order\n",
    "- X4 = I paid a good price for my order\n",
    "- X5 = I am satisfied with my courier\n",
    "- X6 = the app makes ordering easy for me\n",
    "\n",
    "<ins>Note:</ins> Attributes X1 to X6 indicate the responses for each question and have values from 1 to 5 where the smaller number indicates less and the higher number indicates more towards the answer.\n",
    "\n",
    "**Download Data:**\n",
    "- https://drive.google.com/open?id=1KWE3J0uU_sFIJnZ74Id3FDBcejELI7FD\n",
    "\n",
    "**Goal(s):**\n",
    "- Predict if a customer is happy or not based on the answers they give to questions asked.\n",
    "\n",
    "**Success Metrics:**\n",
    "- Reach 73% accuracy score or above, or convince us why your solution is superior. We are definitely interested in every solution and insight you can provide us.\n",
    "- Try to submit your working solution as soon as possible. The sooner the better.\n",
    "\n",
    "**Bonus(es):**\n",
    "- We are very interested in finding which questions/features are more important when predicting a customer’s happiness. Using a feature selection approach show us understand what is the minimal set of attributes/features that would preserve the most information about the problem while increasing predictability of the data we have. Is there any question that we can remove in our next survey?"
   ]
  },
  {
   "cell_type": "markdown",
   "id": "f20cb05b",
   "metadata": {},
   "source": [
    "### Libraries"
   ]
  },
  {
   "cell_type": "code",
   "execution_count": 1,
   "id": "c99c5cd0",
   "metadata": {
    "scrolled": true
   },
   "outputs": [],
   "source": [
    "# Basic imports\n",
    "import pandas as pd\n",
    "import numpy as np\n",
    "import matplotlib.pyplot as plt\n",
    "import seaborn as sns\n",
    "import pickle\n",
    "from operator import itemgetter\n",
    "\n",
    "# Warnings imports\n",
    "import warnings\n",
    "warnings.filterwarnings(\"ignore\")\n",
    "\n",
    "# Xgboost imports\n",
    "from xgboost import XGBClassifier\n",
    "\n",
    "# Sklearn imports\n",
    "from sklearn.base import clone\n",
    "from sklearn.model_selection import train_test_split, GridSearchCV, RandomizedSearchCV\n",
    "from sklearn.linear_model import SGDClassifier\n",
    "from sklearn.tree import DecisionTreeClassifier\n",
    "from sklearn.ensemble import RandomForestClassifier\n",
    "from sklearn.neighbors import KNeighborsClassifier\n",
    "from sklearn.metrics import confusion_matrix, accuracy_score, classification_report\n",
    "from sklearn.preprocessing import StandardScaler\n",
    "from sklearn.decomposition import PCA\n",
    "from sklearn.svm import SVC\n",
    "from sklearn.pipeline import Pipeline\n",
    "from sklearn.inspection import permutation_importance\n",
    "from sklearn.feature_selection import SelectFromModel, RFE, RFECV"
   ]
  },
  {
   "cell_type": "markdown",
   "id": "0899e72c",
   "metadata": {},
   "source": [
    "### Helper function(s)"
   ]
  },
  {
   "cell_type": "code",
   "execution_count": 2,
   "id": "cb082f2d",
   "metadata": {},
   "outputs": [],
   "source": [
    "# This function prints a horizontal line for delineating outputs\n",
    "def barrier():\n",
    "    print(\"\\n <<<\",\"-\"*50,\">>> \\n\")\n",
    "\n",
    "# This function saves models\n",
    "def save_model(model, name):\n",
    "    with open(\"models/\"+name+\".pkl\", \"wb\") as f:\n",
    "        pickle.dump(model, f)\n",
    "    print(f\"Model: {name}.pkl saved.\")\n",
    "\n",
    "# This function loads models\n",
    "def load_model(name):\n",
    "    with open(\"models/\"+name, \"rb\") as f:\n",
    "        model = pickle.load(f)\n",
    "    return model"
   ]
  },
  {
   "cell_type": "markdown",
   "id": "de172ac4",
   "metadata": {},
   "source": [
    "## Data\n",
    "### Exploratory data analysis (EDA)"
   ]
  },
  {
   "cell_type": "code",
   "execution_count": 3,
   "id": "5f2de4a6",
   "metadata": {},
   "outputs": [],
   "source": [
    "df = pd.read_csv(\"raw_data.csv\")"
   ]
  },
  {
   "cell_type": "code",
   "execution_count": 4,
   "id": "e912322e",
   "metadata": {},
   "outputs": [
    {
     "data": {
      "text/html": [
       "<div>\n",
       "<style scoped>\n",
       "    .dataframe tbody tr th:only-of-type {\n",
       "        vertical-align: middle;\n",
       "    }\n",
       "\n",
       "    .dataframe tbody tr th {\n",
       "        vertical-align: top;\n",
       "    }\n",
       "\n",
       "    .dataframe thead th {\n",
       "        text-align: right;\n",
       "    }\n",
       "</style>\n",
       "<table border=\"1\" class=\"dataframe\">\n",
       "  <thead>\n",
       "    <tr style=\"text-align: right;\">\n",
       "      <th></th>\n",
       "      <th>Y</th>\n",
       "      <th>X1</th>\n",
       "      <th>X2</th>\n",
       "      <th>X3</th>\n",
       "      <th>X4</th>\n",
       "      <th>X5</th>\n",
       "      <th>X6</th>\n",
       "    </tr>\n",
       "  </thead>\n",
       "  <tbody>\n",
       "    <tr>\n",
       "      <th>0</th>\n",
       "      <td>0</td>\n",
       "      <td>3</td>\n",
       "      <td>3</td>\n",
       "      <td>3</td>\n",
       "      <td>4</td>\n",
       "      <td>2</td>\n",
       "      <td>4</td>\n",
       "    </tr>\n",
       "    <tr>\n",
       "      <th>1</th>\n",
       "      <td>0</td>\n",
       "      <td>3</td>\n",
       "      <td>2</td>\n",
       "      <td>3</td>\n",
       "      <td>5</td>\n",
       "      <td>4</td>\n",
       "      <td>3</td>\n",
       "    </tr>\n",
       "    <tr>\n",
       "      <th>2</th>\n",
       "      <td>1</td>\n",
       "      <td>5</td>\n",
       "      <td>3</td>\n",
       "      <td>3</td>\n",
       "      <td>3</td>\n",
       "      <td>3</td>\n",
       "      <td>5</td>\n",
       "    </tr>\n",
       "    <tr>\n",
       "      <th>3</th>\n",
       "      <td>0</td>\n",
       "      <td>5</td>\n",
       "      <td>4</td>\n",
       "      <td>3</td>\n",
       "      <td>3</td>\n",
       "      <td>3</td>\n",
       "      <td>5</td>\n",
       "    </tr>\n",
       "    <tr>\n",
       "      <th>4</th>\n",
       "      <td>0</td>\n",
       "      <td>5</td>\n",
       "      <td>4</td>\n",
       "      <td>3</td>\n",
       "      <td>3</td>\n",
       "      <td>3</td>\n",
       "      <td>5</td>\n",
       "    </tr>\n",
       "  </tbody>\n",
       "</table>\n",
       "</div>"
      ],
      "text/plain": [
       "   Y  X1  X2  X3  X4  X5  X6\n",
       "0  0   3   3   3   4   2   4\n",
       "1  0   3   2   3   5   4   3\n",
       "2  1   5   3   3   3   3   5\n",
       "3  0   5   4   3   3   3   5\n",
       "4  0   5   4   3   3   3   5"
      ]
     },
     "execution_count": 4,
     "metadata": {},
     "output_type": "execute_result"
    }
   ],
   "source": [
    "df.head()"
   ]
  },
  {
   "cell_type": "code",
   "execution_count": 5,
   "id": "999e7a8a",
   "metadata": {},
   "outputs": [
    {
     "name": "stdout",
     "output_type": "stream",
     "text": [
      "<class 'pandas.core.frame.DataFrame'>\n",
      "RangeIndex: 126 entries, 0 to 125\n",
      "Data columns (total 7 columns):\n",
      " #   Column  Non-Null Count  Dtype\n",
      "---  ------  --------------  -----\n",
      " 0   Y       126 non-null    int64\n",
      " 1   X1      126 non-null    int64\n",
      " 2   X2      126 non-null    int64\n",
      " 3   X3      126 non-null    int64\n",
      " 4   X4      126 non-null    int64\n",
      " 5   X5      126 non-null    int64\n",
      " 6   X6      126 non-null    int64\n",
      "dtypes: int64(7)\n",
      "memory usage: 7.0 KB\n"
     ]
    }
   ],
   "source": [
    "df.info()"
   ]
  },
  {
   "cell_type": "code",
   "execution_count": 6,
   "id": "7499ec4a",
   "metadata": {},
   "outputs": [
    {
     "data": {
      "text/html": [
       "<div>\n",
       "<style scoped>\n",
       "    .dataframe tbody tr th:only-of-type {\n",
       "        vertical-align: middle;\n",
       "    }\n",
       "\n",
       "    .dataframe tbody tr th {\n",
       "        vertical-align: top;\n",
       "    }\n",
       "\n",
       "    .dataframe thead th {\n",
       "        text-align: right;\n",
       "    }\n",
       "</style>\n",
       "<table border=\"1\" class=\"dataframe\">\n",
       "  <thead>\n",
       "    <tr style=\"text-align: right;\">\n",
       "      <th></th>\n",
       "      <th>Y</th>\n",
       "      <th>X1</th>\n",
       "      <th>X2</th>\n",
       "      <th>X3</th>\n",
       "      <th>X4</th>\n",
       "      <th>X5</th>\n",
       "      <th>X6</th>\n",
       "    </tr>\n",
       "  </thead>\n",
       "  <tbody>\n",
       "    <tr>\n",
       "      <th>count</th>\n",
       "      <td>126.000000</td>\n",
       "      <td>126.000000</td>\n",
       "      <td>126.000000</td>\n",
       "      <td>126.000000</td>\n",
       "      <td>126.000000</td>\n",
       "      <td>126.000000</td>\n",
       "      <td>126.000000</td>\n",
       "    </tr>\n",
       "    <tr>\n",
       "      <th>mean</th>\n",
       "      <td>0.547619</td>\n",
       "      <td>4.333333</td>\n",
       "      <td>2.531746</td>\n",
       "      <td>3.309524</td>\n",
       "      <td>3.746032</td>\n",
       "      <td>3.650794</td>\n",
       "      <td>4.253968</td>\n",
       "    </tr>\n",
       "    <tr>\n",
       "      <th>std</th>\n",
       "      <td>0.499714</td>\n",
       "      <td>0.800000</td>\n",
       "      <td>1.114892</td>\n",
       "      <td>1.023440</td>\n",
       "      <td>0.875776</td>\n",
       "      <td>1.147641</td>\n",
       "      <td>0.809311</td>\n",
       "    </tr>\n",
       "    <tr>\n",
       "      <th>min</th>\n",
       "      <td>0.000000</td>\n",
       "      <td>1.000000</td>\n",
       "      <td>1.000000</td>\n",
       "      <td>1.000000</td>\n",
       "      <td>1.000000</td>\n",
       "      <td>1.000000</td>\n",
       "      <td>1.000000</td>\n",
       "    </tr>\n",
       "    <tr>\n",
       "      <th>25%</th>\n",
       "      <td>0.000000</td>\n",
       "      <td>4.000000</td>\n",
       "      <td>2.000000</td>\n",
       "      <td>3.000000</td>\n",
       "      <td>3.000000</td>\n",
       "      <td>3.000000</td>\n",
       "      <td>4.000000</td>\n",
       "    </tr>\n",
       "    <tr>\n",
       "      <th>50%</th>\n",
       "      <td>1.000000</td>\n",
       "      <td>5.000000</td>\n",
       "      <td>3.000000</td>\n",
       "      <td>3.000000</td>\n",
       "      <td>4.000000</td>\n",
       "      <td>4.000000</td>\n",
       "      <td>4.000000</td>\n",
       "    </tr>\n",
       "    <tr>\n",
       "      <th>75%</th>\n",
       "      <td>1.000000</td>\n",
       "      <td>5.000000</td>\n",
       "      <td>3.000000</td>\n",
       "      <td>4.000000</td>\n",
       "      <td>4.000000</td>\n",
       "      <td>4.000000</td>\n",
       "      <td>5.000000</td>\n",
       "    </tr>\n",
       "    <tr>\n",
       "      <th>max</th>\n",
       "      <td>1.000000</td>\n",
       "      <td>5.000000</td>\n",
       "      <td>5.000000</td>\n",
       "      <td>5.000000</td>\n",
       "      <td>5.000000</td>\n",
       "      <td>5.000000</td>\n",
       "      <td>5.000000</td>\n",
       "    </tr>\n",
       "  </tbody>\n",
       "</table>\n",
       "</div>"
      ],
      "text/plain": [
       "                Y          X1          X2          X3          X4          X5  \\\n",
       "count  126.000000  126.000000  126.000000  126.000000  126.000000  126.000000   \n",
       "mean     0.547619    4.333333    2.531746    3.309524    3.746032    3.650794   \n",
       "std      0.499714    0.800000    1.114892    1.023440    0.875776    1.147641   \n",
       "min      0.000000    1.000000    1.000000    1.000000    1.000000    1.000000   \n",
       "25%      0.000000    4.000000    2.000000    3.000000    3.000000    3.000000   \n",
       "50%      1.000000    5.000000    3.000000    3.000000    4.000000    4.000000   \n",
       "75%      1.000000    5.000000    3.000000    4.000000    4.000000    4.000000   \n",
       "max      1.000000    5.000000    5.000000    5.000000    5.000000    5.000000   \n",
       "\n",
       "               X6  \n",
       "count  126.000000  \n",
       "mean     4.253968  \n",
       "std      0.809311  \n",
       "min      1.000000  \n",
       "25%      4.000000  \n",
       "50%      4.000000  \n",
       "75%      5.000000  \n",
       "max      5.000000  "
      ]
     },
     "execution_count": 6,
     "metadata": {},
     "output_type": "execute_result"
    }
   ],
   "source": [
    "df.describe()"
   ]
  },
  {
   "cell_type": "code",
   "execution_count": 7,
   "id": "b3892552",
   "metadata": {},
   "outputs": [
    {
     "name": "stdout",
     "output_type": "stream",
     "text": [
      "Y     0\n",
      "X1    0\n",
      "X2    0\n",
      "X3    0\n",
      "X4    0\n",
      "X5    0\n",
      "X6    0\n",
      "dtype: int64\n",
      "\n",
      " <<< -------------------------------------------------- >>> \n",
      "\n",
      "Y     0\n",
      "X1    0\n",
      "X2    0\n",
      "X3    0\n",
      "X4    0\n",
      "X5    0\n",
      "X6    0\n",
      "dtype: int64\n"
     ]
    }
   ],
   "source": [
    "# Missing values\n",
    "print(df.isnull().sum())\n",
    "barrier()\n",
    "print(df.isna().sum())"
   ]
  },
  {
   "cell_type": "markdown",
   "id": "ab5b8d85",
   "metadata": {},
   "source": [
    "**NOTE:**\n",
    "- We can conclude that there are no missing values in the dataset."
   ]
  },
  {
   "cell_type": "code",
   "execution_count": 8,
   "id": "ad5b6175",
   "metadata": {},
   "outputs": [
    {
     "name": "stdout",
     "output_type": "stream",
     "text": [
      "Y\n",
      "1    69\n",
      "0    57\n",
      "Name: count, dtype: int64\n",
      "\n",
      " <<< -------------------------------------------------- >>> \n",
      "\n",
      "X1\n",
      "5    65\n",
      "4    40\n",
      "3    20\n",
      "1     1\n",
      "Name: count, dtype: int64\n",
      "\n",
      " <<< -------------------------------------------------- >>> \n",
      "\n",
      "X2\n",
      "3    42\n",
      "2    34\n",
      "1    27\n",
      "4    17\n",
      "5     6\n",
      "Name: count, dtype: int64\n",
      "\n",
      " <<< -------------------------------------------------- >>> \n",
      "\n",
      "X3\n",
      "3    55\n",
      "4    33\n",
      "5    17\n",
      "2    14\n",
      "1     7\n",
      "Name: count, dtype: int64\n",
      "\n",
      " <<< -------------------------------------------------- >>> \n",
      "\n",
      "X4\n",
      "4    53\n",
      "3    41\n",
      "5    25\n",
      "2     5\n",
      "1     2\n",
      "Name: count, dtype: int64\n",
      "\n",
      " <<< -------------------------------------------------- >>> \n",
      "\n",
      "X5\n",
      "4    50\n",
      "5    31\n",
      "3    22\n",
      "2    16\n",
      "1     7\n",
      "Name: count, dtype: int64\n",
      "\n",
      " <<< -------------------------------------------------- >>> \n",
      "\n",
      "X6\n",
      "5    57\n",
      "4    47\n",
      "3    20\n",
      "2     1\n",
      "1     1\n",
      "Name: count, dtype: int64\n",
      "\n",
      " <<< -------------------------------------------------- >>> \n",
      "\n"
     ]
    }
   ],
   "source": [
    "# Value counts\n",
    "for col in df.columns:\n",
    "    print(df[col].value_counts())\n",
    "    barrier()"
   ]
  },
  {
   "cell_type": "markdown",
   "id": "0cec5b87",
   "metadata": {},
   "source": [
    "### Graphical EDA"
   ]
  },
  {
   "cell_type": "code",
   "execution_count": 9,
   "id": "1385ac68",
   "metadata": {},
   "outputs": [
    {
     "data": {
      "image/png": "[encoded data removed]",
      "text/plain": [
       "<Figure size 640x480 with 1 Axes>"
      ]
     },
     "metadata": {},
     "output_type": "display_data"
    }
   ],
   "source": [
    "# Boxplot\n",
    "df.boxplot()\n",
    "plt.title(\"Distribution of all features\")\n",
    "plt.xlabel(\"Features\")\n",
    "plt.ylabel(\"Values\")\n",
    "plt.grid(visible=True)\n",
    "plt.show()"
   ]
  },
  {
   "cell_type": "code",
   "execution_count": 10,
   "id": "dd158f7d",
   "metadata": {},
   "outputs": [
    {
     "data": {
      "text/html": [
       "<div>\n",
       "<style scoped>\n",
       "    .dataframe tbody tr th:only-of-type {\n",
       "        vertical-align: middle;\n",
       "    }\n",
       "\n",
       "    .dataframe tbody tr th {\n",
       "        vertical-align: top;\n",
       "    }\n",
       "\n",
       "    .dataframe thead th {\n",
       "        text-align: right;\n",
       "    }\n",
       "</style>\n",
       "<table border=\"1\" class=\"dataframe\">\n",
       "  <thead>\n",
       "    <tr style=\"text-align: right;\">\n",
       "      <th></th>\n",
       "      <th>Y</th>\n",
       "      <th>X1</th>\n",
       "      <th>X2</th>\n",
       "      <th>X3</th>\n",
       "      <th>X4</th>\n",
       "      <th>X5</th>\n",
       "      <th>X6</th>\n",
       "    </tr>\n",
       "  </thead>\n",
       "  <tbody>\n",
       "    <tr>\n",
       "      <th>Y</th>\n",
       "      <td>1.000000</td>\n",
       "      <td>0.280160</td>\n",
       "      <td>-0.024274</td>\n",
       "      <td>0.150838</td>\n",
       "      <td>0.064415</td>\n",
       "      <td>0.224522</td>\n",
       "      <td>0.167669</td>\n",
       "    </tr>\n",
       "    <tr>\n",
       "      <th>X1</th>\n",
       "      <td>0.280160</td>\n",
       "      <td>1.000000</td>\n",
       "      <td>0.059797</td>\n",
       "      <td>0.283358</td>\n",
       "      <td>0.087541</td>\n",
       "      <td>0.432772</td>\n",
       "      <td>0.411873</td>\n",
       "    </tr>\n",
       "    <tr>\n",
       "      <th>X2</th>\n",
       "      <td>-0.024274</td>\n",
       "      <td>0.059797</td>\n",
       "      <td>1.000000</td>\n",
       "      <td>0.184129</td>\n",
       "      <td>0.114838</td>\n",
       "      <td>0.039996</td>\n",
       "      <td>-0.062205</td>\n",
       "    </tr>\n",
       "    <tr>\n",
       "      <th>X3</th>\n",
       "      <td>0.150838</td>\n",
       "      <td>0.283358</td>\n",
       "      <td>0.184129</td>\n",
       "      <td>1.000000</td>\n",
       "      <td>0.302618</td>\n",
       "      <td>0.358397</td>\n",
       "      <td>0.203750</td>\n",
       "    </tr>\n",
       "    <tr>\n",
       "      <th>X4</th>\n",
       "      <td>0.064415</td>\n",
       "      <td>0.087541</td>\n",
       "      <td>0.114838</td>\n",
       "      <td>0.302618</td>\n",
       "      <td>1.000000</td>\n",
       "      <td>0.293115</td>\n",
       "      <td>0.215888</td>\n",
       "    </tr>\n",
       "    <tr>\n",
       "      <th>X5</th>\n",
       "      <td>0.224522</td>\n",
       "      <td>0.432772</td>\n",
       "      <td>0.039996</td>\n",
       "      <td>0.358397</td>\n",
       "      <td>0.293115</td>\n",
       "      <td>1.000000</td>\n",
       "      <td>0.320195</td>\n",
       "    </tr>\n",
       "    <tr>\n",
       "      <th>X6</th>\n",
       "      <td>0.167669</td>\n",
       "      <td>0.411873</td>\n",
       "      <td>-0.062205</td>\n",
       "      <td>0.203750</td>\n",
       "      <td>0.215888</td>\n",
       "      <td>0.320195</td>\n",
       "      <td>1.000000</td>\n",
       "    </tr>\n",
       "  </tbody>\n",
       "</table>\n",
       "</div>"
      ],
      "text/plain": [
       "           Y        X1        X2        X3        X4        X5        X6\n",
       "Y   1.000000  0.280160 -0.024274  0.150838  0.064415  0.224522  0.167669\n",
       "X1  0.280160  1.000000  0.059797  0.283358  0.087541  0.432772  0.411873\n",
       "X2 -0.024274  0.059797  1.000000  0.184129  0.114838  0.039996 -0.062205\n",
       "X3  0.150838  0.283358  0.184129  1.000000  0.302618  0.358397  0.203750\n",
       "X4  0.064415  0.087541  0.114838  0.302618  1.000000  0.293115  0.215888\n",
       "X5  0.224522  0.432772  0.039996  0.358397  0.293115  1.000000  0.320195\n",
       "X6  0.167669  0.411873 -0.062205  0.203750  0.215888  0.320195  1.000000"
      ]
     },
     "execution_count": 10,
     "metadata": {},
     "output_type": "execute_result"
    }
   ],
   "source": [
    "# Correlation df\n",
    "df.corr()"
   ]
  },
  {
   "cell_type": "code",
   "execution_count": 11,
   "id": "6ffeadbb",
   "metadata": {},
   "outputs": [
    {
     "data": {
      "image/png": "[encoded data removed]",
      "text/plain": [
       "<Figure size 1500x1000 with 2 Axes>"
      ]
     },
     "metadata": {},
     "output_type": "display_data"
    }
   ],
   "source": [
    "# Correlation heatmap\n",
    "fig, ax = plt.subplots(figsize=(15, 10))  \n",
    "corr = df.corr()\n",
    "sns.heatmap(corr, annot=True, cmap=\"Blues\")\n",
    "plt.title(\"Correlation heatmap of all features\")\n",
    "plt.show()"
   ]
  },
  {
   "cell_type": "code",
   "execution_count": 12,
   "id": "29e8a9d9",
   "metadata": {
    "scrolled": false
   },
   "outputs": [
    {
     "data": {
      "image/png": "[encoded data removed]",
      "text/plain": [
       "<Figure size 1750x1750 with 56 Axes>"
      ]
     },
     "metadata": {},
     "output_type": "display_data"
    }
   ],
   "source": [
    "# Pairplot\n",
    "g = sns.pairplot(df)\n",
    "g.fig.suptitle(\"Pairplot of all features\", y=1.01, size=\"xx-large\")\n",
    "plt.show()"
   ]
  },
  {
   "cell_type": "markdown",
   "id": "d052abd3",
   "metadata": {},
   "source": [
    "### Train and test split"
   ]
  },
  {
   "cell_type": "code",
   "execution_count": 13,
   "id": "ac177013",
   "metadata": {},
   "outputs": [],
   "source": [
    "y = df[\"Y\"]\n",
    "X = df.drop(\"Y\", axis=1)\n",
    "RANDOM_STATE = 0\n",
    "X_train, X_test, y_train, y_test = train_test_split(X, y, test_size=0.2, random_state=RANDOM_STATE)"
   ]
  },
  {
   "cell_type": "code",
   "execution_count": 14,
   "id": "9f80a1bd",
   "metadata": {},
   "outputs": [
    {
     "data": {
      "text/plain": [
       "((100, 6), (100,), (26, 6), (26,))"
      ]
     },
     "execution_count": 14,
     "metadata": {},
     "output_type": "execute_result"
    }
   ],
   "source": [
    "X_train.shape, y_train.shape, X_test.shape, y_test.shape"
   ]
  },
  {
   "cell_type": "code",
   "execution_count": 15,
   "id": "402af57a",
   "metadata": {},
   "outputs": [
    {
     "data": {
      "text/plain": [
       "(56, 13, 69)"
      ]
     },
     "execution_count": 15,
     "metadata": {},
     "output_type": "execute_result"
    }
   ],
   "source": [
    "y_train.sum(), y_test.sum(), y.sum()"
   ]
  },
  {
   "cell_type": "markdown",
   "id": "b827c836",
   "metadata": {},
   "source": [
    "## Modelling"
   ]
  },
  {
   "cell_type": "markdown",
   "id": "d197595b",
   "metadata": {},
   "source": [
    "#### Methodology"
   ]
  },
  {
   "cell_type": "markdown",
   "id": "e9590aa8",
   "metadata": {},
   "source": [
    "**NOTE:**\n",
    "- There is a very small sample size of only 126 entries. This will very likely affect the modeling process.\n",
    "- Since we are targeting customers, we may make the intelligent assumption that KNN will be a good model since it is very good at classifying customer behaviors and customer demographics.\n",
    "- Since we have limited data, an ensemble method with bootstrap aggregating like  XGBoost will likely also perform well.\n",
    "- This will be investigated in the sections below."
   ]
  },
  {
   "cell_type": "markdown",
   "id": "46f3895b",
   "metadata": {},
   "source": [
    "**NOTE:**\n",
    "- Model hyperparameters are tuned for best performance and to mitigate overfitting. This is done using cross validation.\n",
    "- Cross validation can be performed using the GridSearchCV or RandomizedSearchCV libraries.\n",
    "    - It can also be done \"manually\" using nested for loops and parameter sweeping.\n",
    "    - Where multiple kinds of hyperparameter tuning is performed in this Section 3, they will be numbered at the top of the cell eg #1, #2, #3 etc.\n",
    "- It should be noted that:\n",
    "    - Hyperparameter tuning is expensive; both computationally and timewise.\n",
    "    - Certain models may produce unrepeatable/unstable scores that change significantly with each evaluation despite the parameters remaining unchanged. This is due to some inherent randomness in the model's process and is exacerbated by the small sample size. We will note this when we encounter it."
   ]
  },
  {
   "cell_type": "markdown",
   "id": "8f739977",
   "metadata": {},
   "source": [
    "#### Lazypredict"
   ]
  },
  {
   "cell_type": "code",
   "execution_count": 16,
   "id": "6a690513",
   "metadata": {},
   "outputs": [
    {
     "name": "stderr",
     "output_type": "stream",
     "text": [
      "100%|██████████| 29/29 [00:00<00:00, 32.20it/s]"
     ]
    },
    {
     "name": "stdout",
     "output_type": "stream",
     "text": [
      "[LightGBM] [Info] Number of positive: 56, number of negative: 44\n",
      "[LightGBM] [Info] Auto-choosing row-wise multi-threading, the overhead of testing was 0.001000 seconds.\n",
      "You can set `force_row_wise=true` to remove the overhead.\n",
      "And if memory is not enough, you can set `force_col_wise=true`.\n",
      "[LightGBM] [Info] Total Bins 31\n",
      "[LightGBM] [Info] Number of data points in the train set: 100, number of used features: 6\n",
      "[LightGBM] [Info] [binary:BoostFromScore]: pavg=0.560000 -> initscore=0.241162\n",
      "[LightGBM] [Info] Start training from score 0.241162\n",
      "[LightGBM] [Warning] No further splits with positive gain, best gain: -inf\n",
      "[LightGBM] [Warning] No further splits with positive gain, best gain: -inf\n",
      "[LightGBM] [Warning] No further splits with positive gain, best gain: -inf\n",
      "[LightGBM] [Warning] No further splits with positive gain, best gain: -inf\n",
      "[LightGBM] [Warning] No further splits with positive gain, best gain: -inf\n",
      "[LightGBM] [Warning] No further splits with positive gain, best gain: -inf\n",
      "[LightGBM] [Warning] No further splits with positive gain, best gain: -inf\n",
      "[LightGBM] [Warning] No further splits with positive gain, best gain: -inf\n",
      "[LightGBM] [Warning] No further splits with positive gain, best gain: -inf\n",
      "[LightGBM] [Warning] No further splits with positive gain, best gain: -inf\n",
      "[LightGBM] [Warning] No further splits with positive gain, best gain: -inf\n",
      "[LightGBM] [Warning] No further splits with positive gain, best gain: -inf\n",
      "[LightGBM] [Warning] No further splits with positive gain, best gain: -inf\n",
      "[LightGBM] [Warning] No further splits with positive gain, best gain: -inf\n",
      "[LightGBM] [Warning] No further splits with positive gain, best gain: -inf\n",
      "[LightGBM] [Warning] No further splits with positive gain, best gain: -inf\n",
      "[LightGBM] [Warning] No further splits with positive gain, best gain: -inf\n",
      "[LightGBM] [Warning] No further splits with positive gain, best gain: -inf\n",
      "[LightGBM] [Warning] No further splits with positive gain, best gain: -inf\n",
      "[LightGBM] [Warning] No further splits with positive gain, best gain: -inf\n",
      "[LightGBM] [Warning] No further splits with positive gain, best gain: -inf\n",
      "[LightGBM] [Warning] No further splits with positive gain, best gain: -inf\n",
      "[LightGBM] [Warning] No further splits with positive gain, best gain: -inf\n",
      "[LightGBM] [Warning] No further splits with positive gain, best gain: -inf\n",
      "[LightGBM] [Warning] No further splits with positive gain, best gain: -inf\n",
      "[LightGBM] [Warning] No further splits with positive gain, best gain: -inf\n",
      "[LightGBM] [Warning] No further splits with positive gain, best gain: -inf\n",
      "[LightGBM] [Warning] No further splits with positive gain, best gain: -inf\n",
      "[LightGBM] [Warning] No further splits with positive gain, best gain: -inf\n",
      "[LightGBM] [Warning] No further splits with positive gain, best gain: -inf\n",
      "[LightGBM] [Warning] No further splits with positive gain, best gain: -inf\n",
      "[LightGBM] [Warning] No further splits with positive gain, best gain: -inf\n",
      "[LightGBM] [Warning] No further splits with positive gain, best gain: -inf\n",
      "[LightGBM] [Warning] No further splits with positive gain, best gain: -inf\n",
      "[LightGBM] [Warning] No further splits with positive gain, best gain: -inf\n",
      "[LightGBM] [Warning] No further splits with positive gain, best gain: -inf\n",
      "[LightGBM] [Warning] No further splits with positive gain, best gain: -inf\n",
      "[LightGBM] [Warning] No further splits with positive gain, best gain: -inf\n",
      "[LightGBM] [Warning] No further splits with positive gain, best gain: -inf\n",
      "[LightGBM] [Warning] No further splits with positive gain, best gain: -inf\n",
      "[LightGBM] [Warning] No further splits with positive gain, best gain: -inf\n",
      "[LightGBM] [Warning] No further splits with positive gain, best gain: -inf\n",
      "[LightGBM] [Warning] No further splits with positive gain, best gain: -inf\n",
      "[LightGBM] [Warning] No further splits with positive gain, best gain: -inf\n",
      "[LightGBM] [Warning] No further splits with positive gain, best gain: -inf\n",
      "[LightGBM] [Warning] No further splits with positive gain, best gain: -inf\n",
      "[LightGBM] [Warning] No further splits with positive gain, best gain: -inf\n",
      "[LightGBM] [Warning] No further splits with positive gain, best gain: -inf\n",
      "[LightGBM] [Warning] No further splits with positive gain, best gain: -inf\n",
      "[LightGBM] [Warning] No further splits with positive gain, best gain: -inf\n",
      "[LightGBM] [Warning] No further splits with positive gain, best gain: -inf\n",
      "[LightGBM] [Warning] No further splits with positive gain, best gain: -inf\n",
      "[LightGBM] [Warning] No further splits with positive gain, best gain: -inf\n",
      "[LightGBM] [Warning] No further splits with positive gain, best gain: -inf\n",
      "[LightGBM] [Warning] No further splits with positive gain, best gain: -inf\n",
      "[LightGBM] [Warning] No further splits with positive gain, best gain: -inf\n",
      "[LightGBM] [Warning] No further splits with positive gain, best gain: -inf\n",
      "[LightGBM] [Warning] No further splits with positive gain, best gain: -inf\n",
      "[LightGBM] [Warning] No further splits with positive gain, best gain: -inf\n",
      "[LightGBM] [Warning] No further splits with positive gain, best gain: -inf\n",
      "[LightGBM] [Warning] No further splits with positive gain, best gain: -inf\n",
      "[LightGBM] [Warning] No further splits with positive gain, best gain: -inf\n",
      "[LightGBM] [Warning] No further splits with positive gain, best gain: -inf\n",
      "[LightGBM] [Warning] No further splits with positive gain, best gain: -inf\n",
      "[LightGBM] [Warning] No further splits with positive gain, best gain: -inf\n",
      "[LightGBM] [Warning] No further splits with positive gain, best gain: -inf\n",
      "[LightGBM] [Warning] No further splits with positive gain, best gain: -inf\n",
      "[LightGBM] [Warning] No further splits with positive gain, best gain: -inf\n",
      "[LightGBM] [Warning] No further splits with positive gain, best gain: -inf\n",
      "[LightGBM] [Warning] No further splits with positive gain, best gain: -inf\n",
      "[LightGBM] [Warning] No further splits with positive gain, best gain: -inf\n",
      "[LightGBM] [Warning] No further splits with positive gain, best gain: -inf\n",
      "[LightGBM] [Warning] No further splits with positive gain, best gain: -inf\n",
      "[LightGBM] [Warning] No further splits with positive gain, best gain: -inf\n",
      "[LightGBM] [Warning] No further splits with positive gain, best gain: -inf\n",
      "[LightGBM] [Warning] No further splits with positive gain, best gain: -inf\n",
      "[LightGBM] [Warning] No further splits with positive gain, best gain: -inf\n",
      "[LightGBM] [Warning] No further splits with positive gain, best gain: -inf\n",
      "[LightGBM] [Warning] No further splits with positive gain, best gain: -inf\n",
      "[LightGBM] [Warning] No further splits with positive gain, best gain: -inf\n",
      "[LightGBM] [Warning] No further splits with positive gain, best gain: -inf\n",
      "[LightGBM] [Warning] No further splits with positive gain, best gain: -inf\n",
      "[LightGBM] [Warning] No further splits with positive gain, best gain: -inf\n",
      "[LightGBM] [Warning] No further splits with positive gain, best gain: -inf\n",
      "[LightGBM] [Warning] No further splits with positive gain, best gain: -inf\n",
      "[LightGBM] [Warning] No further splits with positive gain, best gain: -inf\n",
      "[LightGBM] [Warning] No further splits with positive gain, best gain: -inf\n",
      "[LightGBM] [Warning] No further splits with positive gain, best gain: -inf\n",
      "[LightGBM] [Warning] No further splits with positive gain, best gain: -inf\n",
      "[LightGBM] [Warning] No further splits with positive gain, best gain: -inf\n",
      "[LightGBM] [Warning] No further splits with positive gain, best gain: -inf\n",
      "[LightGBM] [Warning] No further splits with positive gain, best gain: -inf\n",
      "[LightGBM] [Warning] No further splits with positive gain, best gain: -inf\n",
      "[LightGBM] [Warning] No further splits with positive gain, best gain: -inf\n",
      "[LightGBM] [Warning] No further splits with positive gain, best gain: -inf\n",
      "[LightGBM] [Warning] No further splits with positive gain, best gain: -inf\n",
      "[LightGBM] [Warning] No further splits with positive gain, best gain: -inf\n",
      "[LightGBM] [Warning] No further splits with positive gain, best gain: -inf\n",
      "[LightGBM] [Warning] No further splits with positive gain, best gain: -inf\n",
      "[LightGBM] [Warning] No further splits with positive gain, best gain: -inf\n",
      "                               Accuracy  Balanced Accuracy  ROC AUC  F1 Score  \\\n",
      "Model                                                                           \n",
      "Perceptron                         0.73               0.73     0.73      0.71   \n",
      "PassiveAggressiveClassifier        0.69               0.69     0.69      0.69   \n",
      "NearestCentroid                    0.69               0.69     0.69      0.69   \n",
      "LGBMClassifier                     0.62               0.62     0.62      0.61   \n",
      "BernoulliNB                        0.62               0.62     0.62      0.61   \n",
      "SGDClassifier                      0.62               0.62     0.62      0.62   \n",
      "GaussianNB                         0.62               0.62     0.62      0.61   \n",
      "LogisticRegression                 0.62               0.62     0.62      0.59   \n",
      "LinearDiscriminantAnalysis         0.58               0.58     0.58      0.54   \n",
      "XGBClassifier                      0.58               0.58     0.58      0.57   \n",
      "RidgeClassifierCV                  0.58               0.58     0.58      0.54   \n",
      "RidgeClassifier                    0.58               0.58     0.58      0.54   \n",
      "LinearSVC                          0.58               0.58     0.58      0.54   \n",
      "LabelSpreading                     0.58               0.58     0.58      0.58   \n",
      "LabelPropagation                   0.58               0.58     0.58      0.58   \n",
      "ExtraTreeClassifier                0.58               0.58     0.58      0.58   \n",
      "BaggingClassifier                  0.54               0.54     0.54      0.54   \n",
      "QuadraticDiscriminantAnalysis      0.54               0.54     0.54      0.53   \n",
      "CalibratedClassifierCV             0.54               0.54     0.54      0.41   \n",
      "ExtraTreesClassifier               0.50               0.50     0.50      0.49   \n",
      "RandomForestClassifier             0.50               0.50     0.50      0.49   \n",
      "DummyClassifier                    0.50               0.50     0.50      0.33   \n",
      "SVC                                0.50               0.50     0.50      0.49   \n",
      "KNeighborsClassifier               0.46               0.46     0.46      0.45   \n",
      "DecisionTreeClassifier             0.46               0.46     0.46      0.46   \n",
      "NuSVC                              0.42               0.42     0.42      0.42   \n",
      "AdaBoostClassifier                 0.42               0.42     0.42      0.42   \n",
      "\n",
      "                               Time Taken  \n",
      "Model                                      \n",
      "Perceptron                           0.01  \n",
      "PassiveAggressiveClassifier          0.01  \n",
      "NearestCentroid                      0.01  \n",
      "LGBMClassifier                       0.15  \n",
      "BernoulliNB                          0.02  \n",
      "SGDClassifier                        0.01  \n",
      "GaussianNB                           0.01  \n",
      "LogisticRegression                   0.02  \n",
      "LinearDiscriminantAnalysis           0.03  \n",
      "XGBClassifier                        0.08  \n",
      "RidgeClassifierCV                    0.01  \n",
      "RidgeClassifier                      0.02  \n",
      "LinearSVC                            0.01  \n",
      "LabelSpreading                       0.01  \n",
      "LabelPropagation                     0.02  \n",
      "ExtraTreeClassifier                  0.01  \n",
      "BaggingClassifier                    0.03  \n",
      "QuadraticDiscriminantAnalysis        0.01  \n",
      "CalibratedClassifierCV               0.04  \n",
      "ExtraTreesClassifier                 0.11  \n",
      "RandomForestClassifier               0.14  \n",
      "DummyClassifier                      0.01  \n",
      "SVC                                  0.01  \n",
      "KNeighborsClassifier                 0.02  \n",
      "DecisionTreeClassifier               0.01  \n",
      "NuSVC                                0.01  \n",
      "AdaBoostClassifier                   0.09  \n"
     ]
    },
    {
     "name": "stderr",
     "output_type": "stream",
     "text": [
      "\n"
     ]
    }
   ],
   "source": [
    "# Lazy preliminary assessment of multiple models\n",
    "from lazypredict.Supervised import LazyClassifier\n",
    "clf = LazyClassifier(verbose=-1, ignore_warnings=True, custom_metric=None)\n",
    "models, predictions = clf.fit(X_train, X_test, y_train, y_test)\n",
    "print(models)"
   ]
  },
  {
   "cell_type": "markdown",
   "id": "493749dc",
   "metadata": {},
   "source": [
    "**NOTE:**\n",
    "- Lazypredict provides an initial estimation of how different models may perform with the data.\n",
    "- However, this assessment should be considered a rough guideline as it is made without model tuning. Thus, it will only serve informational purposes going forward."
   ]
  },
  {
   "cell_type": "markdown",
   "id": "66d26ad6",
   "metadata": {},
   "source": [
    "#### Model evaluation functions"
   ]
  },
  {
   "cell_type": "code",
   "execution_count": 17,
   "id": "c2b98d81",
   "metadata": {},
   "outputs": [],
   "source": [
    "# Functions to evaluate models\n",
    "def cm_df(model):\n",
    "    y_pred = model.predict(X_test)\n",
    "    df=pd.DataFrame(confusion_matrix(y_test,y_pred),columns=[\"Predicted_0\",\"Predicted_1\"],index=[\"Actual_0\",\"Actual_1\"])\n",
    "    return df\n",
    "\n",
    "def evaluate(model):\n",
    "    model.fit(X_train, y_train)\n",
    "    y_pred = model.predict(X_test)\n",
    "    print(\"Training accuracy: \", model.score(X_train, y_train))\n",
    "    print(\"Test accuracy: \", accuracy_score(y_test, y_pred))\n",
    "    barrier()\n",
    "    print(\"Confusion matrix:\")\n",
    "    display(cm_df(model))\n",
    "    barrier()\n",
    "    print(\"Classification report:\")\n",
    "    print(classification_report(y_test, y_pred))\n",
    "\n",
    "def evaluate_no_fit(model):\n",
    "    y_pred = model.predict(X_test)\n",
    "    print(\"Training accuracy: \", model.score(X_train, y_train))\n",
    "    print(\"Test accuracy: \", accuracy_score(y_test, y_pred))\n",
    "    barrier()\n",
    "    print(\"Confusion matrix:\")\n",
    "    display(cm_df(model))\n",
    "    barrier()\n",
    "    print(\"Classification report:\")\n",
    "    print(classification_report(y_test, y_pred))\n",
    "\n",
    "def cv_std(cv):\n",
    "    y = cv.cv_results_[\"std_test_score\"]\n",
    "    x = np.arange(1, y.shape[0] + 1)\n",
    "    print(f\"Mean of the standard deviations: {y.mean()}\")\n",
    "    print(f\"Std of the standard deviations: {y.std()}\")\n",
    "    barrier()\n",
    "    plt.plot(x, y)\n",
    "    plt.title(\"Standard devs of CV scores\")\n",
    "    plt.xlabel(\"Param Candidates\")\n",
    "    plt.ylabel(\"Stds\")\n",
    "    plt.show()"
   ]
  },
  {
   "cell_type": "markdown",
   "id": "534777db",
   "metadata": {},
   "source": [
    "### K nearest neighbors (KNN)"
   ]
  },
  {
   "cell_type": "code",
   "execution_count": 18,
   "id": "b1195e55",
   "metadata": {},
   "outputs": [
    {
     "name": "stdout",
     "output_type": "stream",
     "text": [
      "Training accuracy:  0.75\n",
      "Test accuracy:  0.46153846153846156\n",
      "\n",
      " <<< -------------------------------------------------- >>> \n",
      "\n",
      "Confusion matrix:\n"
     ]
    },
    {
     "data": {
      "text/html": [
       "<div>\n",
       "<style scoped>\n",
       "    .dataframe tbody tr th:only-of-type {\n",
       "        vertical-align: middle;\n",
       "    }\n",
       "\n",
       "    .dataframe tbody tr th {\n",
       "        vertical-align: top;\n",
       "    }\n",
       "\n",
       "    .dataframe thead th {\n",
       "        text-align: right;\n",
       "    }\n",
       "</style>\n",
       "<table border=\"1\" class=\"dataframe\">\n",
       "  <thead>\n",
       "    <tr style=\"text-align: right;\">\n",
       "      <th></th>\n",
       "      <th>Predicted_0</th>\n",
       "      <th>Predicted_1</th>\n",
       "    </tr>\n",
       "  </thead>\n",
       "  <tbody>\n",
       "    <tr>\n",
       "      <th>Actual_0</th>\n",
       "      <td>4</td>\n",
       "      <td>9</td>\n",
       "    </tr>\n",
       "    <tr>\n",
       "      <th>Actual_1</th>\n",
       "      <td>5</td>\n",
       "      <td>8</td>\n",
       "    </tr>\n",
       "  </tbody>\n",
       "</table>\n",
       "</div>"
      ],
      "text/plain": [
       "          Predicted_0  Predicted_1\n",
       "Actual_0            4            9\n",
       "Actual_1            5            8"
      ]
     },
     "metadata": {},
     "output_type": "display_data"
    },
    {
     "name": "stdout",
     "output_type": "stream",
     "text": [
      "\n",
      " <<< -------------------------------------------------- >>> \n",
      "\n",
      "Classification report:\n",
      "              precision    recall  f1-score   support\n",
      "\n",
      "           0       0.44      0.31      0.36        13\n",
      "           1       0.47      0.62      0.53        13\n",
      "\n",
      "    accuracy                           0.46        26\n",
      "   macro avg       0.46      0.46      0.45        26\n",
      "weighted avg       0.46      0.46      0.45        26\n",
      "\n"
     ]
    }
   ],
   "source": [
    "# No tuning\n",
    "KNN = KNeighborsClassifier()\n",
    "evaluate(KNN)"
   ]
  },
  {
   "cell_type": "markdown",
   "id": "7d881b44",
   "metadata": {},
   "source": [
    "#### Hyperparameter tuning"
   ]
  },
  {
   "cell_type": "code",
   "execution_count": 19,
   "id": "b35f7b53",
   "metadata": {},
   "outputs": [
    {
     "name": "stdout",
     "output_type": "stream",
     "text": [
      "Fitting 5 folds for each of 9280 candidates, totalling 46400 fits\n",
      "\n",
      " <<< -------------------------------------------------- >>> \n",
      "\n",
      "Tuned model paramaters: {'algorithm': 'auto', 'leaf_size': 1, 'n_neighbors': 8, 'p': 1, 'weights': 'uniform'}\n",
      "Tuned model best score: 0.7\n",
      "\n",
      " <<< -------------------------------------------------- >>> \n",
      "\n",
      "Training accuracy:  0.71\n",
      "Test accuracy:  0.5\n",
      "\n",
      " <<< -------------------------------------------------- >>> \n",
      "\n",
      "Confusion matrix:\n"
     ]
    },
    {
     "data": {
      "text/html": [
       "<div>\n",
       "<style scoped>\n",
       "    .dataframe tbody tr th:only-of-type {\n",
       "        vertical-align: middle;\n",
       "    }\n",
       "\n",
       "    .dataframe tbody tr th {\n",
       "        vertical-align: top;\n",
       "    }\n",
       "\n",
       "    .dataframe thead th {\n",
       "        text-align: right;\n",
       "    }\n",
       "</style>\n",
       "<table border=\"1\" class=\"dataframe\">\n",
       "  <thead>\n",
       "    <tr style=\"text-align: right;\">\n",
       "      <th></th>\n",
       "      <th>Predicted_0</th>\n",
       "      <th>Predicted_1</th>\n",
       "    </tr>\n",
       "  </thead>\n",
       "  <tbody>\n",
       "    <tr>\n",
       "      <th>Actual_0</th>\n",
       "      <td>5</td>\n",
       "      <td>8</td>\n",
       "    </tr>\n",
       "    <tr>\n",
       "      <th>Actual_1</th>\n",
       "      <td>5</td>\n",
       "      <td>8</td>\n",
       "    </tr>\n",
       "  </tbody>\n",
       "</table>\n",
       "</div>"
      ],
      "text/plain": [
       "          Predicted_0  Predicted_1\n",
       "Actual_0            5            8\n",
       "Actual_1            5            8"
      ]
     },
     "metadata": {},
     "output_type": "display_data"
    },
    {
     "name": "stdout",
     "output_type": "stream",
     "text": [
      "\n",
      " <<< -------------------------------------------------- >>> \n",
      "\n",
      "Classification report:\n",
      "              precision    recall  f1-score   support\n",
      "\n",
      "           0       0.50      0.38      0.43        13\n",
      "           1       0.50      0.62      0.55        13\n",
      "\n",
      "    accuracy                           0.50        26\n",
      "   macro avg       0.50      0.50      0.49        26\n",
      "weighted avg       0.50      0.50      0.49        26\n",
      "\n"
     ]
    }
   ],
   "source": [
    "# 1\n",
    "KNN = KNeighborsClassifier()\n",
    "\n",
    "param_grid = {\"n_neighbors\": [i for i in range(1, 21)], \"weights\": [\"uniform\", \"distance\"], \"p\": [1, 2],\n",
    "              \"algorithm\": [\"auto\", \"ball_tree\", \"kd_tree\", \"brute\"], \"leaf_size\": range(1, 30)}\n",
    "\n",
    "model_cv = GridSearchCV(KNN, param_grid, verbose=1, n_jobs=-1)\n",
    "model_cv.fit(X_train, y_train)\n",
    "barrier()\n",
    "print(f\"Tuned model paramaters: {model_cv.best_params_}\")\n",
    "print(f\"Tuned model best score: {model_cv.best_score_}\")\n",
    "barrier()\n",
    "evaluate_no_fit(model_cv.best_estimator_)"
   ]
  },
  {
   "cell_type": "code",
   "execution_count": 20,
   "id": "1218318e",
   "metadata": {},
   "outputs": [
    {
     "name": "stdout",
     "output_type": "stream",
     "text": [
      "Mean of the standard deviations: 0.07320767377582374\n",
      "Std of the standard deviations: 0.026250424305040022\n",
      "\n",
      " <<< -------------------------------------------------- >>> \n",
      "\n"
     ]
    },
    {
     "data": {
      "image/png": "[encoded data removed]",
      "text/plain": [
       "<Figure size 640x480 with 1 Axes>"
      ]
     },
     "metadata": {},
     "output_type": "display_data"
    }
   ],
   "source": [
    "# Evaluate stds\n",
    "cv_std(model_cv)"
   ]
  },
  {
   "cell_type": "code",
   "execution_count": 21,
   "id": "698c6916",
   "metadata": {},
   "outputs": [
    {
     "name": "stdout",
     "output_type": "stream",
     "text": [
      "0.7692307692307693\n",
      "12_uniform_auto_13_2\n"
     ]
    }
   ],
   "source": [
    "# 2\n",
    "n_neighbors = range(1, 21)\n",
    "weights = [\"uniform\", \"distance\"]\n",
    "algo = [\"auto\", \"ball_tree\", \"kd_tree\", \"brute\"]\n",
    "leaf_size = range(1, 30)\n",
    "power = [1, 2]\n",
    "best_score = 0\n",
    "hyper_params = \"\"\n",
    "\n",
    "for n in n_neighbors:\n",
    "    for w in weights:\n",
    "        for a in algo:\n",
    "            for l in leaf_size:\n",
    "                for p in power:\n",
    "                    KNN = KNeighborsClassifier(n_neighbors=n, weights=w, algorithm=a, leaf_size=l, p=p)\n",
    "                    KNN.fit(X_train, y_train)                   \n",
    "                    y_pred = KNN.predict(X_test)\n",
    "                    if accuracy_score(y_test, y_pred) > best_score:\n",
    "                        best_score = accuracy_score(y_test, y_pred)\n",
    "                        hyper_params = str(n) + \"_\" + w + \"_\" + a + \"_\" + str(l) + \"_\" + str(p)\n",
    "\n",
    "print(best_score)\n",
    "print(hyper_params)"
   ]
  },
  {
   "cell_type": "code",
   "execution_count": 22,
   "id": "f5f5e811",
   "metadata": {},
   "outputs": [
    {
     "name": "stdout",
     "output_type": "stream",
     "text": [
      "Training accuracy:  0.65\n",
      "Test accuracy:  0.7692307692307693\n",
      "\n",
      " <<< -------------------------------------------------- >>> \n",
      "\n",
      "Confusion matrix:\n"
     ]
    },
    {
     "data": {
      "text/html": [
       "<div>\n",
       "<style scoped>\n",
       "    .dataframe tbody tr th:only-of-type {\n",
       "        vertical-align: middle;\n",
       "    }\n",
       "\n",
       "    .dataframe tbody tr th {\n",
       "        vertical-align: top;\n",
       "    }\n",
       "\n",
       "    .dataframe thead th {\n",
       "        text-align: right;\n",
       "    }\n",
       "</style>\n",
       "<table border=\"1\" class=\"dataframe\">\n",
       "  <thead>\n",
       "    <tr style=\"text-align: right;\">\n",
       "      <th></th>\n",
       "      <th>Predicted_0</th>\n",
       "      <th>Predicted_1</th>\n",
       "    </tr>\n",
       "  </thead>\n",
       "  <tbody>\n",
       "    <tr>\n",
       "      <th>Actual_0</th>\n",
       "      <td>9</td>\n",
       "      <td>4</td>\n",
       "    </tr>\n",
       "    <tr>\n",
       "      <th>Actual_1</th>\n",
       "      <td>2</td>\n",
       "      <td>11</td>\n",
       "    </tr>\n",
       "  </tbody>\n",
       "</table>\n",
       "</div>"
      ],
      "text/plain": [
       "          Predicted_0  Predicted_1\n",
       "Actual_0            9            4\n",
       "Actual_1            2           11"
      ]
     },
     "metadata": {},
     "output_type": "display_data"
    },
    {
     "name": "stdout",
     "output_type": "stream",
     "text": [
      "\n",
      " <<< -------------------------------------------------- >>> \n",
      "\n",
      "Classification report:\n",
      "              precision    recall  f1-score   support\n",
      "\n",
      "           0       0.82      0.69      0.75        13\n",
      "           1       0.73      0.85      0.79        13\n",
      "\n",
      "    accuracy                           0.77        26\n",
      "   macro avg       0.78      0.77      0.77        26\n",
      "weighted avg       0.78      0.77      0.77        26\n",
      "\n"
     ]
    }
   ],
   "source": [
    "# Using best parameters\n",
    "KNN = KNeighborsClassifier(n_neighbors=12, weights=\"uniform\", algorithm=\"auto\", leaf_size=13, p=2)\n",
    "evaluate(KNN)"
   ]
  },
  {
   "cell_type": "markdown",
   "id": "43971474",
   "metadata": {},
   "source": [
    "**NOTE:**\n",
    "- Test accuracy (77%) exceeds the goal of 73% or more.\n",
    "- Training accuracy is 65%."
   ]
  },
  {
   "cell_type": "code",
   "execution_count": 23,
   "id": "270ad221",
   "metadata": {},
   "outputs": [
    {
     "name": "stdout",
     "output_type": "stream",
     "text": [
      "Model: KNN.pkl saved.\n"
     ]
    }
   ],
   "source": [
    "# Save model\n",
    "save_model(KNN, \"KNN\")"
   ]
  },
  {
   "cell_type": "markdown",
   "id": "636a89f4",
   "metadata": {},
   "source": [
    "### XGBoost"
   ]
  },
  {
   "cell_type": "code",
   "execution_count": 24,
   "id": "fcc9a3da",
   "metadata": {},
   "outputs": [
    {
     "name": "stdout",
     "output_type": "stream",
     "text": [
      "Training accuracy:  0.93\n",
      "Test accuracy:  0.5769230769230769\n",
      "\n",
      " <<< -------------------------------------------------- >>> \n",
      "\n",
      "Confusion matrix:\n"
     ]
    },
    {
     "data": {
      "text/html": [
       "<div>\n",
       "<style scoped>\n",
       "    .dataframe tbody tr th:only-of-type {\n",
       "        vertical-align: middle;\n",
       "    }\n",
       "\n",
       "    .dataframe tbody tr th {\n",
       "        vertical-align: top;\n",
       "    }\n",
       "\n",
       "    .dataframe thead th {\n",
       "        text-align: right;\n",
       "    }\n",
       "</style>\n",
       "<table border=\"1\" class=\"dataframe\">\n",
       "  <thead>\n",
       "    <tr style=\"text-align: right;\">\n",
       "      <th></th>\n",
       "      <th>Predicted_0</th>\n",
       "      <th>Predicted_1</th>\n",
       "    </tr>\n",
       "  </thead>\n",
       "  <tbody>\n",
       "    <tr>\n",
       "      <th>Actual_0</th>\n",
       "      <td>6</td>\n",
       "      <td>7</td>\n",
       "    </tr>\n",
       "    <tr>\n",
       "      <th>Actual_1</th>\n",
       "      <td>4</td>\n",
       "      <td>9</td>\n",
       "    </tr>\n",
       "  </tbody>\n",
       "</table>\n",
       "</div>"
      ],
      "text/plain": [
       "          Predicted_0  Predicted_1\n",
       "Actual_0            6            7\n",
       "Actual_1            4            9"
      ]
     },
     "metadata": {},
     "output_type": "display_data"
    },
    {
     "name": "stdout",
     "output_type": "stream",
     "text": [
      "\n",
      " <<< -------------------------------------------------- >>> \n",
      "\n",
      "Classification report:\n",
      "              precision    recall  f1-score   support\n",
      "\n",
      "           0       0.60      0.46      0.52        13\n",
      "           1       0.56      0.69      0.62        13\n",
      "\n",
      "    accuracy                           0.58        26\n",
      "   macro avg       0.58      0.58      0.57        26\n",
      "weighted avg       0.58      0.58      0.57        26\n",
      "\n"
     ]
    }
   ],
   "source": [
    "# No tuning\n",
    "XGB = XGBClassifier()\n",
    "evaluate(XGB)"
   ]
  },
  {
   "cell_type": "markdown",
   "id": "c14b80ab",
   "metadata": {},
   "source": [
    "#### Hyperparameter tuning"
   ]
  },
  {
   "cell_type": "code",
   "execution_count": 25,
   "id": "b80942e1",
   "metadata": {},
   "outputs": [
    {
     "name": "stdout",
     "output_type": "stream",
     "text": [
      "Fitting 5 folds for each of 405 candidates, totalling 2025 fits\n",
      "\n",
      " <<< -------------------------------------------------- >>> \n",
      "\n",
      "Tuned model paramaters: {'colsample_bytree': 0.6, 'gamma': 0.5, 'max_depth': 5, 'min_child_weight': 1, 'subsample': 1.0}\n",
      "Tuned model best score: 0.6699999999999999\n",
      "\n",
      " <<< -------------------------------------------------- >>> \n",
      "\n",
      "Training accuracy:  0.81\n",
      "Test accuracy:  0.6153846153846154\n",
      "\n",
      " <<< -------------------------------------------------- >>> \n",
      "\n",
      "Confusion matrix:\n"
     ]
    },
    {
     "data": {
      "text/html": [
       "<div>\n",
       "<style scoped>\n",
       "    .dataframe tbody tr th:only-of-type {\n",
       "        vertical-align: middle;\n",
       "    }\n",
       "\n",
       "    .dataframe tbody tr th {\n",
       "        vertical-align: top;\n",
       "    }\n",
       "\n",
       "    .dataframe thead th {\n",
       "        text-align: right;\n",
       "    }\n",
       "</style>\n",
       "<table border=\"1\" class=\"dataframe\">\n",
       "  <thead>\n",
       "    <tr style=\"text-align: right;\">\n",
       "      <th></th>\n",
       "      <th>Predicted_0</th>\n",
       "      <th>Predicted_1</th>\n",
       "    </tr>\n",
       "  </thead>\n",
       "  <tbody>\n",
       "    <tr>\n",
       "      <th>Actual_0</th>\n",
       "      <td>5</td>\n",
       "      <td>8</td>\n",
       "    </tr>\n",
       "    <tr>\n",
       "      <th>Actual_1</th>\n",
       "      <td>2</td>\n",
       "      <td>11</td>\n",
       "    </tr>\n",
       "  </tbody>\n",
       "</table>\n",
       "</div>"
      ],
      "text/plain": [
       "          Predicted_0  Predicted_1\n",
       "Actual_0            5            8\n",
       "Actual_1            2           11"
      ]
     },
     "metadata": {},
     "output_type": "display_data"
    },
    {
     "name": "stdout",
     "output_type": "stream",
     "text": [
      "\n",
      " <<< -------------------------------------------------- >>> \n",
      "\n",
      "Classification report:\n",
      "              precision    recall  f1-score   support\n",
      "\n",
      "           0       0.71      0.38      0.50        13\n",
      "           1       0.58      0.85      0.69        13\n",
      "\n",
      "    accuracy                           0.62        26\n",
      "   macro avg       0.65      0.62      0.59        26\n",
      "weighted avg       0.65      0.62      0.59        26\n",
      "\n"
     ]
    }
   ],
   "source": [
    "# 1\n",
    "XGB = XGBClassifier()\n",
    "\n",
    "param_grid = {\"min_child_weight\": [1, 5, 10], \"gamma\": [0.5, 1, 1.5, 2, 5], \"subsample\": [0.6, 0.8, 1.0],\n",
    "              \"colsample_bytree\": [0.6, 0.8, 1.0], \"max_depth\": [3, 4, 5]}\n",
    "\n",
    "model_cv = GridSearchCV(XGB, param_grid, verbose=1, n_jobs=-1)\n",
    "model_cv.fit(X_train, y_train)\n",
    "barrier()\n",
    "print(f\"Tuned model paramaters: {model_cv.best_params_}\")\n",
    "print(f\"Tuned model best score: {model_cv.best_score_}\")\n",
    "barrier()\n",
    "evaluate_no_fit(model_cv.best_estimator_)"
   ]
  },
  {
   "cell_type": "code",
   "execution_count": 26,
   "id": "611602c3",
   "metadata": {},
   "outputs": [
    {
     "name": "stdout",
     "output_type": "stream",
     "text": [
      "Mean of the standard deviations: 0.053954201189885476\n",
      "Std of the standard deviations: 0.02973223675333593\n",
      "\n",
      " <<< -------------------------------------------------- >>> \n",
      "\n"
     ]
    },
    {
     "data": {
      "image/png": "[encoded data removed]",
      "text/plain": [
       "<Figure size 640x480 with 1 Axes>"
      ]
     },
     "metadata": {},
     "output_type": "display_data"
    }
   ],
   "source": [
    "# Evaluate stds\n",
    "cv_std(model_cv)"
   ]
  },
  {
   "cell_type": "code",
   "execution_count": 27,
   "id": "a9d97d05",
   "metadata": {},
   "outputs": [
    {
     "name": "stdout",
     "output_type": "stream",
     "text": [
      "0.7307692307692307\n",
      "1_1.5_1.0_0.8_3\n"
     ]
    }
   ],
   "source": [
    "# 2\n",
    "weights = [1, 5, 10]\n",
    "gammas = [0.5, 1, 1.5, 2, 5]\n",
    "subsamples = [0.6, 0.8, 1.0]\n",
    "col_samples = [0.6, 0.8, 1.0]\n",
    "max_depths = [3, 4, 5]\n",
    "best_score = 0\n",
    "hyper_params = \"\"\n",
    "\n",
    "for w in weights:\n",
    "    for g in gammas:\n",
    "        for s in subsamples:\n",
    "            for c in col_samples:\n",
    "                for m in max_depths:\n",
    "                    XGB = XGBClassifier(min_child_weight=w, gamma=g, subsample=s, colsample_bytree=c, max_depth=m)\n",
    "                    XGB.fit(X_train, y_train)\n",
    "                    y_pred = XGB.predict(X_test)\n",
    "                    if accuracy_score(y_test, y_pred) > best_score:\n",
    "                        best_score = accuracy_score(y_test, y_pred)\n",
    "                        hyper_params = str(w) + \"_\" + str(g) + \"_\" + str(s) + \"_\" + str(c) + \"_\" + str(m)\n",
    "\n",
    "print(best_score)\n",
    "print(hyper_params)"
   ]
  },
  {
   "cell_type": "code",
   "execution_count": 28,
   "id": "d69330cc",
   "metadata": {},
   "outputs": [
    {
     "name": "stdout",
     "output_type": "stream",
     "text": [
      "Training accuracy:  0.72\n",
      "Test accuracy:  0.7307692307692307\n",
      "\n",
      " <<< -------------------------------------------------- >>> \n",
      "\n",
      "Confusion matrix:\n"
     ]
    },
    {
     "data": {
      "text/html": [
       "<div>\n",
       "<style scoped>\n",
       "    .dataframe tbody tr th:only-of-type {\n",
       "        vertical-align: middle;\n",
       "    }\n",
       "\n",
       "    .dataframe tbody tr th {\n",
       "        vertical-align: top;\n",
       "    }\n",
       "\n",
       "    .dataframe thead th {\n",
       "        text-align: right;\n",
       "    }\n",
       "</style>\n",
       "<table border=\"1\" class=\"dataframe\">\n",
       "  <thead>\n",
       "    <tr style=\"text-align: right;\">\n",
       "      <th></th>\n",
       "      <th>Predicted_0</th>\n",
       "      <th>Predicted_1</th>\n",
       "    </tr>\n",
       "  </thead>\n",
       "  <tbody>\n",
       "    <tr>\n",
       "      <th>Actual_0</th>\n",
       "      <td>10</td>\n",
       "      <td>3</td>\n",
       "    </tr>\n",
       "    <tr>\n",
       "      <th>Actual_1</th>\n",
       "      <td>4</td>\n",
       "      <td>9</td>\n",
       "    </tr>\n",
       "  </tbody>\n",
       "</table>\n",
       "</div>"
      ],
      "text/plain": [
       "          Predicted_0  Predicted_1\n",
       "Actual_0           10            3\n",
       "Actual_1            4            9"
      ]
     },
     "metadata": {},
     "output_type": "display_data"
    },
    {
     "name": "stdout",
     "output_type": "stream",
     "text": [
      "\n",
      " <<< -------------------------------------------------- >>> \n",
      "\n",
      "Classification report:\n",
      "              precision    recall  f1-score   support\n",
      "\n",
      "           0       0.71      0.77      0.74        13\n",
      "           1       0.75      0.69      0.72        13\n",
      "\n",
      "    accuracy                           0.73        26\n",
      "   macro avg       0.73      0.73      0.73        26\n",
      "weighted avg       0.73      0.73      0.73        26\n",
      "\n"
     ]
    }
   ],
   "source": [
    "# Using best parameters\n",
    "XGB = XGBClassifier(min_child_weight=1, gamma=1.5, subsample=1, colsample_bytree=0.8, max_depth=3)\n",
    "evaluate(XGB)"
   ]
  },
  {
   "cell_type": "markdown",
   "id": "8cd6bae7",
   "metadata": {},
   "source": [
    "**NOTE:**\n",
    "- Test accuracy (73%) matches the goal of 73% or more and is slightly less than the KNN model (77%).\n",
    "- Training accuracy is 72% which is better than the KNN model (65%)."
   ]
  },
  {
   "cell_type": "code",
   "execution_count": 29,
   "id": "56acec0c",
   "metadata": {},
   "outputs": [
    {
     "name": "stdout",
     "output_type": "stream",
     "text": [
      "Model: XGB.pkl saved.\n"
     ]
    }
   ],
   "source": [
    "# Save model\n",
    "save_model(XGB, \"XGB\")"
   ]
  },
  {
   "cell_type": "markdown",
   "id": "358e9a07",
   "metadata": {},
   "source": [
    "### Support vector machine (SVM)"
   ]
  },
  {
   "cell_type": "code",
   "execution_count": 30,
   "id": "458bbd1b",
   "metadata": {},
   "outputs": [
    {
     "name": "stdout",
     "output_type": "stream",
     "text": [
      "Training accuracy:  0.82\n",
      "Test accuracy:  0.5\n",
      "\n",
      " <<< -------------------------------------------------- >>> \n",
      "\n",
      "Confusion matrix:\n"
     ]
    },
    {
     "data": {
      "text/html": [
       "<div>\n",
       "<style scoped>\n",
       "    .dataframe tbody tr th:only-of-type {\n",
       "        vertical-align: middle;\n",
       "    }\n",
       "\n",
       "    .dataframe tbody tr th {\n",
       "        vertical-align: top;\n",
       "    }\n",
       "\n",
       "    .dataframe thead th {\n",
       "        text-align: right;\n",
       "    }\n",
       "</style>\n",
       "<table border=\"1\" class=\"dataframe\">\n",
       "  <thead>\n",
       "    <tr style=\"text-align: right;\">\n",
       "      <th></th>\n",
       "      <th>Predicted_0</th>\n",
       "      <th>Predicted_1</th>\n",
       "    </tr>\n",
       "  </thead>\n",
       "  <tbody>\n",
       "    <tr>\n",
       "      <th>Actual_0</th>\n",
       "      <td>5</td>\n",
       "      <td>8</td>\n",
       "    </tr>\n",
       "    <tr>\n",
       "      <th>Actual_1</th>\n",
       "      <td>5</td>\n",
       "      <td>8</td>\n",
       "    </tr>\n",
       "  </tbody>\n",
       "</table>\n",
       "</div>"
      ],
      "text/plain": [
       "          Predicted_0  Predicted_1\n",
       "Actual_0            5            8\n",
       "Actual_1            5            8"
      ]
     },
     "metadata": {},
     "output_type": "display_data"
    },
    {
     "name": "stdout",
     "output_type": "stream",
     "text": [
      "\n",
      " <<< -------------------------------------------------- >>> \n",
      "\n",
      "Classification report:\n",
      "              precision    recall  f1-score   support\n",
      "\n",
      "           0       0.50      0.38      0.43        13\n",
      "           1       0.50      0.62      0.55        13\n",
      "\n",
      "    accuracy                           0.50        26\n",
      "   macro avg       0.50      0.50      0.49        26\n",
      "weighted avg       0.50      0.50      0.49        26\n",
      "\n"
     ]
    }
   ],
   "source": [
    "# No tuning\n",
    "SVM = Pipeline([(\"scale\", StandardScaler()), (\"SVC\", SVC())])\n",
    "evaluate(SVM)"
   ]
  },
  {
   "cell_type": "markdown",
   "id": "5d75102e",
   "metadata": {},
   "source": [
    "#### Hyperparameter tuning"
   ]
  },
  {
   "cell_type": "code",
   "execution_count": 31,
   "id": "9b918c2e",
   "metadata": {},
   "outputs": [
    {
     "name": "stdout",
     "output_type": "stream",
     "text": [
      "Fitting 5 folds for each of 32 candidates, totalling 160 fits\n",
      "\n",
      " <<< -------------------------------------------------- >>> \n",
      "\n",
      "Tuned model paramaters: {'degree': 3, 'gamma': 'scale', 'kernel': 'poly'}\n",
      "Tuned model best score: 0.6399999999999999\n",
      "\n",
      " <<< -------------------------------------------------- >>> \n",
      "\n",
      "Training accuracy:  0.8\n",
      "Test accuracy:  0.46153846153846156\n",
      "\n",
      " <<< -------------------------------------------------- >>> \n",
      "\n",
      "Confusion matrix:\n"
     ]
    },
    {
     "data": {
      "text/html": [
       "<div>\n",
       "<style scoped>\n",
       "    .dataframe tbody tr th:only-of-type {\n",
       "        vertical-align: middle;\n",
       "    }\n",
       "\n",
       "    .dataframe tbody tr th {\n",
       "        vertical-align: top;\n",
       "    }\n",
       "\n",
       "    .dataframe thead th {\n",
       "        text-align: right;\n",
       "    }\n",
       "</style>\n",
       "<table border=\"1\" class=\"dataframe\">\n",
       "  <thead>\n",
       "    <tr style=\"text-align: right;\">\n",
       "      <th></th>\n",
       "      <th>Predicted_0</th>\n",
       "      <th>Predicted_1</th>\n",
       "    </tr>\n",
       "  </thead>\n",
       "  <tbody>\n",
       "    <tr>\n",
       "      <th>Actual_0</th>\n",
       "      <td>7</td>\n",
       "      <td>6</td>\n",
       "    </tr>\n",
       "    <tr>\n",
       "      <th>Actual_1</th>\n",
       "      <td>8</td>\n",
       "      <td>5</td>\n",
       "    </tr>\n",
       "  </tbody>\n",
       "</table>\n",
       "</div>"
      ],
      "text/plain": [
       "          Predicted_0  Predicted_1\n",
       "Actual_0            7            6\n",
       "Actual_1            8            5"
      ]
     },
     "metadata": {},
     "output_type": "display_data"
    },
    {
     "name": "stdout",
     "output_type": "stream",
     "text": [
      "\n",
      " <<< -------------------------------------------------- >>> \n",
      "\n",
      "Classification report:\n",
      "              precision    recall  f1-score   support\n",
      "\n",
      "           0       0.47      0.54      0.50        13\n",
      "           1       0.45      0.38      0.42        13\n",
      "\n",
      "    accuracy                           0.46        26\n",
      "   macro avg       0.46      0.46      0.46        26\n",
      "weighted avg       0.46      0.46      0.46        26\n",
      "\n"
     ]
    }
   ],
   "source": [
    "# 1\n",
    "SVM = SVC()\n",
    "param_grid = {\"kernel\": [\"linear\", \"poly\", \"rbf\", \"sigmoid\"], \"degree\": [1, 2, 3, 4],\n",
    "              \"gamma\": [\"scale\", \"auto\"]}\n",
    "\n",
    "model_cv = GridSearchCV(SVM, param_grid, verbose=1, n_jobs = -1)\n",
    "model_cv.fit(X_train, y_train)\n",
    "barrier()\n",
    "print(f\"Tuned model paramaters: {model_cv.best_params_}\")\n",
    "print(f\"Tuned model best score: {model_cv.best_score_}\")\n",
    "barrier()\n",
    "evaluate_no_fit(model_cv.best_estimator_)"
   ]
  },
  {
   "cell_type": "code",
   "execution_count": 32,
   "id": "78d298d4",
   "metadata": {},
   "outputs": [
    {
     "name": "stdout",
     "output_type": "stream",
     "text": [
      "Mean of the standard deviations: 0.05512624956084523\n",
      "Std of the standard deviations: 0.036723243448195185\n",
      "\n",
      " <<< -------------------------------------------------- >>> \n",
      "\n"
     ]
    },
    {
     "data": {
      "image/png": "[encoded data removed]",
      "text/plain": [
       "<Figure size 640x480 with 1 Axes>"
      ]
     },
     "metadata": {},
     "output_type": "display_data"
    }
   ],
   "source": [
    "# Evaluate stds\n",
    "cv_std(model_cv)"
   ]
  },
  {
   "cell_type": "code",
   "execution_count": 33,
   "id": "faaf5630",
   "metadata": {},
   "outputs": [
    {
     "name": "stdout",
     "output_type": "stream",
     "text": [
      "0.7692307692307693\n",
      "linear_1_scale\n"
     ]
    }
   ],
   "source": [
    "# 2\n",
    "kernel_types = [\"linear\", \"poly\", \"rbf\", \"sigmoid\"]\n",
    "degree = [1, 2, 3, 4]\n",
    "gamma = [\"scale\", \"auto\"]\n",
    "best_score = 0\n",
    "hyper_params = \"\"\n",
    "\n",
    "for k in kernel_types:\n",
    "    for d in degree:\n",
    "        for g in gamma:\n",
    "            SVM = Pipeline([(\"scale\", StandardScaler()), (\"SVM\", SVC(kernel=k, degree=d, gamma=g))])\n",
    "            SVM.fit(X_train, y_train)\n",
    "            y_pred = SVM.predict(X_test)\n",
    "            if accuracy_score(y_test, y_pred) > best_score:\n",
    "                best_score = accuracy_score(y_test, y_pred)\n",
    "                hyper_params = k + \"_\" + str(d) + \"_\" + g\n",
    "\n",
    "print(best_score)\n",
    "print(hyper_params)"
   ]
  },
  {
   "cell_type": "code",
   "execution_count": 34,
   "id": "f1a06afa",
   "metadata": {},
   "outputs": [
    {
     "name": "stdout",
     "output_type": "stream",
     "text": [
      "Training accuracy:  0.59\n",
      "Test accuracy:  0.7692307692307693\n",
      "\n",
      " <<< -------------------------------------------------- >>> \n",
      "\n",
      "Confusion matrix:\n"
     ]
    },
    {
     "data": {
      "text/html": [
       "<div>\n",
       "<style scoped>\n",
       "    .dataframe tbody tr th:only-of-type {\n",
       "        vertical-align: middle;\n",
       "    }\n",
       "\n",
       "    .dataframe tbody tr th {\n",
       "        vertical-align: top;\n",
       "    }\n",
       "\n",
       "    .dataframe thead th {\n",
       "        text-align: right;\n",
       "    }\n",
       "</style>\n",
       "<table border=\"1\" class=\"dataframe\">\n",
       "  <thead>\n",
       "    <tr style=\"text-align: right;\">\n",
       "      <th></th>\n",
       "      <th>Predicted_0</th>\n",
       "      <th>Predicted_1</th>\n",
       "    </tr>\n",
       "  </thead>\n",
       "  <tbody>\n",
       "    <tr>\n",
       "      <th>Actual_0</th>\n",
       "      <td>8</td>\n",
       "      <td>5</td>\n",
       "    </tr>\n",
       "    <tr>\n",
       "      <th>Actual_1</th>\n",
       "      <td>1</td>\n",
       "      <td>12</td>\n",
       "    </tr>\n",
       "  </tbody>\n",
       "</table>\n",
       "</div>"
      ],
      "text/plain": [
       "          Predicted_0  Predicted_1\n",
       "Actual_0            8            5\n",
       "Actual_1            1           12"
      ]
     },
     "metadata": {},
     "output_type": "display_data"
    },
    {
     "name": "stdout",
     "output_type": "stream",
     "text": [
      "\n",
      " <<< -------------------------------------------------- >>> \n",
      "\n",
      "Classification report:\n",
      "              precision    recall  f1-score   support\n",
      "\n",
      "           0       0.89      0.62      0.73        13\n",
      "           1       0.71      0.92      0.80        13\n",
      "\n",
      "    accuracy                           0.77        26\n",
      "   macro avg       0.80      0.77      0.76        26\n",
      "weighted avg       0.80      0.77      0.76        26\n",
      "\n"
     ]
    }
   ],
   "source": [
    "# Using best parameters\n",
    "SVM = Pipeline([(\"scale\", StandardScaler()), (\"SVM\", SVC(kernel=\"linear\", degree=1, gamma=\"scale\"))])\n",
    "evaluate(SVM)"
   ]
  },
  {
   "cell_type": "markdown",
   "id": "067eaf12",
   "metadata": {},
   "source": [
    "**NOTE:**\n",
    "- Test accuracy (77%) exceeds the goal of 73% or more, matches the KNN model and is slightly better the XGBoost model (73%).\n",
    "- Training accuracy is 59% which is less than both the KNN (65%) and the XGBoost (72%) models."
   ]
  },
  {
   "cell_type": "code",
   "execution_count": 35,
   "id": "8476eb04",
   "metadata": {},
   "outputs": [
    {
     "name": "stdout",
     "output_type": "stream",
     "text": [
      "Model: SVM.pkl saved.\n"
     ]
    }
   ],
   "source": [
    "# Save model\n",
    "save_model(SVM, \"SVM\")"
   ]
  },
  {
   "cell_type": "markdown",
   "id": "c1539b35",
   "metadata": {},
   "source": [
    "### Decision tree"
   ]
  },
  {
   "cell_type": "code",
   "execution_count": 423,
   "id": "9a93b263",
   "metadata": {},
   "outputs": [
    {
     "name": "stdout",
     "output_type": "stream",
     "text": [
      "Training accuracy:  0.95\n",
      "Test accuracy:  0.46153846153846156\n",
      "\n",
      " <<< -------------------------------------------------- >>> \n",
      "\n",
      "Confusion matrix:\n"
     ]
    },
    {
     "data": {
      "text/html": [
       "<div>\n",
       "<style scoped>\n",
       "    .dataframe tbody tr th:only-of-type {\n",
       "        vertical-align: middle;\n",
       "    }\n",
       "\n",
       "    .dataframe tbody tr th {\n",
       "        vertical-align: top;\n",
       "    }\n",
       "\n",
       "    .dataframe thead th {\n",
       "        text-align: right;\n",
       "    }\n",
       "</style>\n",
       "<table border=\"1\" class=\"dataframe\">\n",
       "  <thead>\n",
       "    <tr style=\"text-align: right;\">\n",
       "      <th></th>\n",
       "      <th>Predicted_0</th>\n",
       "      <th>Predicted_1</th>\n",
       "    </tr>\n",
       "  </thead>\n",
       "  <tbody>\n",
       "    <tr>\n",
       "      <th>Actual_0</th>\n",
       "      <td>6</td>\n",
       "      <td>7</td>\n",
       "    </tr>\n",
       "    <tr>\n",
       "      <th>Actual_1</th>\n",
       "      <td>7</td>\n",
       "      <td>6</td>\n",
       "    </tr>\n",
       "  </tbody>\n",
       "</table>\n",
       "</div>"
      ],
      "text/plain": [
       "          Predicted_0  Predicted_1\n",
       "Actual_0            6            7\n",
       "Actual_1            7            6"
      ]
     },
     "metadata": {},
     "output_type": "display_data"
    },
    {
     "name": "stdout",
     "output_type": "stream",
     "text": [
      "\n",
      " <<< -------------------------------------------------- >>> \n",
      "\n",
      "Classification report:\n",
      "              precision    recall  f1-score   support\n",
      "\n",
      "           0       0.46      0.46      0.46        13\n",
      "           1       0.46      0.46      0.46        13\n",
      "\n",
      "    accuracy                           0.46        26\n",
      "   macro avg       0.46      0.46      0.46        26\n",
      "weighted avg       0.46      0.46      0.46        26\n",
      "\n"
     ]
    }
   ],
   "source": [
    "# No tuning\n",
    "DTC = DecisionTreeClassifier()\n",
    "evaluate(DTC)"
   ]
  },
  {
   "cell_type": "markdown",
   "id": "9af2ae50",
   "metadata": {},
   "source": [
    "#### Hyperparameter tuning"
   ]
  },
  {
   "cell_type": "code",
   "execution_count": 424,
   "id": "b26d558b",
   "metadata": {},
   "outputs": [
    {
     "name": "stdout",
     "output_type": "stream",
     "text": [
      "Fitting 5 folds for each of 42 candidates, totalling 210 fits\n",
      "\n",
      " <<< -------------------------------------------------- >>> \n",
      "\n",
      "Tuned model paramaters: {'criterion': 'log_loss', 'max_depth': 6, 'splitter': 'random'}\n",
      "Tuned model best score: 0.65\n",
      "\n",
      " <<< -------------------------------------------------- >>> \n",
      "\n",
      "Training accuracy:  0.87\n",
      "Test accuracy:  0.4230769230769231\n",
      "\n",
      " <<< -------------------------------------------------- >>> \n",
      "\n",
      "Confusion matrix:\n"
     ]
    },
    {
     "data": {
      "text/html": [
       "<div>\n",
       "<style scoped>\n",
       "    .dataframe tbody tr th:only-of-type {\n",
       "        vertical-align: middle;\n",
       "    }\n",
       "\n",
       "    .dataframe tbody tr th {\n",
       "        vertical-align: top;\n",
       "    }\n",
       "\n",
       "    .dataframe thead th {\n",
       "        text-align: right;\n",
       "    }\n",
       "</style>\n",
       "<table border=\"1\" class=\"dataframe\">\n",
       "  <thead>\n",
       "    <tr style=\"text-align: right;\">\n",
       "      <th></th>\n",
       "      <th>Predicted_0</th>\n",
       "      <th>Predicted_1</th>\n",
       "    </tr>\n",
       "  </thead>\n",
       "  <tbody>\n",
       "    <tr>\n",
       "      <th>Actual_0</th>\n",
       "      <td>7</td>\n",
       "      <td>6</td>\n",
       "    </tr>\n",
       "    <tr>\n",
       "      <th>Actual_1</th>\n",
       "      <td>9</td>\n",
       "      <td>4</td>\n",
       "    </tr>\n",
       "  </tbody>\n",
       "</table>\n",
       "</div>"
      ],
      "text/plain": [
       "          Predicted_0  Predicted_1\n",
       "Actual_0            7            6\n",
       "Actual_1            9            4"
      ]
     },
     "metadata": {},
     "output_type": "display_data"
    },
    {
     "name": "stdout",
     "output_type": "stream",
     "text": [
      "\n",
      " <<< -------------------------------------------------- >>> \n",
      "\n",
      "Classification report:\n",
      "              precision    recall  f1-score   support\n",
      "\n",
      "           0       0.44      0.54      0.48        13\n",
      "           1       0.40      0.31      0.35        13\n",
      "\n",
      "    accuracy                           0.42        26\n",
      "   macro avg       0.42      0.42      0.42        26\n",
      "weighted avg       0.42      0.42      0.42        26\n",
      "\n"
     ]
    }
   ],
   "source": [
    "# 1\n",
    "DTC = DecisionTreeClassifier()\n",
    "param_grid = {\"criterion\": [\"gini\", \"entropy\", \"log_loss\"], \"splitter\":[\"best\", \"random\"],\n",
    "              \"max_depth\":range(3, 10)}\n",
    "\n",
    "model_cv = GridSearchCV(DTC, param_grid, verbose=1, n_jobs=-1)\n",
    "model_cv.fit(X_train, y_train)\n",
    "barrier()\n",
    "print(f\"Tuned model paramaters: {model_cv.best_params_}\")\n",
    "print(f\"Tuned model best score: {model_cv.best_score_}\")\n",
    "barrier()\n",
    "evaluate_no_fit(model_cv.best_estimator_)"
   ]
  },
  {
   "cell_type": "code",
   "execution_count": 425,
   "id": "d9d9f442",
   "metadata": {},
   "outputs": [
    {
     "name": "stdout",
     "output_type": "stream",
     "text": [
      "Mean of the standard deviations: 0.06518070717814614\n",
      "Std of the standard deviations: 0.023381905546701335\n",
      "\n",
      " <<< -------------------------------------------------- >>> \n",
      "\n"
     ]
    },
    {
     "data": {
      "image/png": "[encoded data removed]",
      "text/plain": [
       "<Figure size 640x480 with 1 Axes>"
      ]
     },
     "metadata": {},
     "output_type": "display_data"
    }
   ],
   "source": [
    "# Evaluate stds\n",
    "cv_std(model_cv)"
   ]
  },
  {
   "cell_type": "code",
   "execution_count": 458,
   "id": "5d424ae5",
   "metadata": {},
   "outputs": [
    {
     "name": "stdout",
     "output_type": "stream",
     "text": [
      "0.7307692307692307\n",
      "gini_random_3\n"
     ]
    }
   ],
   "source": [
    "# 2\n",
    "criterion = [\"gini\", \"entropy\", \"log_loss\"]\n",
    "splitter = [\"best\", \"random\"]\n",
    "max_depth = range(3, 20)\n",
    "best_score = 0\n",
    "hyper_params = \"\"\n",
    "\n",
    "for c in criterion:\n",
    "    for s in splitter:\n",
    "        for m in max_depth:\n",
    "            DTC = DecisionTreeClassifier(criterion=c, splitter=s, max_depth=m)\n",
    "            DTC = DTC.fit(X_train, y_train)\n",
    "            y_pred = DTC.predict(X_test)\n",
    "            if accuracy_score(y_test, yPredict) > best_score:\n",
    "                best_score = accuracy_score(y_test, y_pred)\n",
    "                hyper_params = c + \"_\" + s + \"_\" + str(m)\n",
    "\n",
    "print(best_score)\n",
    "print(hyper_params)"
   ]
  },
  {
   "cell_type": "code",
   "execution_count": 459,
   "id": "a54d72ee",
   "metadata": {},
   "outputs": [
    {
     "name": "stdout",
     "output_type": "stream",
     "text": [
      "Training accuracy:  0.64\n",
      "Test accuracy:  0.5384615384615384\n",
      "\n",
      " <<< -------------------------------------------------- >>> \n",
      "\n",
      "Confusion matrix:\n"
     ]
    },
    {
     "data": {
      "text/html": [
       "<div>\n",
       "<style scoped>\n",
       "    .dataframe tbody tr th:only-of-type {\n",
       "        vertical-align: middle;\n",
       "    }\n",
       "\n",
       "    .dataframe tbody tr th {\n",
       "        vertical-align: top;\n",
       "    }\n",
       "\n",
       "    .dataframe thead th {\n",
       "        text-align: right;\n",
       "    }\n",
       "</style>\n",
       "<table border=\"1\" class=\"dataframe\">\n",
       "  <thead>\n",
       "    <tr style=\"text-align: right;\">\n",
       "      <th></th>\n",
       "      <th>Predicted_0</th>\n",
       "      <th>Predicted_1</th>\n",
       "    </tr>\n",
       "  </thead>\n",
       "  <tbody>\n",
       "    <tr>\n",
       "      <th>Actual_0</th>\n",
       "      <td>3</td>\n",
       "      <td>10</td>\n",
       "    </tr>\n",
       "    <tr>\n",
       "      <th>Actual_1</th>\n",
       "      <td>2</td>\n",
       "      <td>11</td>\n",
       "    </tr>\n",
       "  </tbody>\n",
       "</table>\n",
       "</div>"
      ],
      "text/plain": [
       "          Predicted_0  Predicted_1\n",
       "Actual_0            3           10\n",
       "Actual_1            2           11"
      ]
     },
     "metadata": {},
     "output_type": "display_data"
    },
    {
     "name": "stdout",
     "output_type": "stream",
     "text": [
      "\n",
      " <<< -------------------------------------------------- >>> \n",
      "\n",
      "Classification report:\n",
      "              precision    recall  f1-score   support\n",
      "\n",
      "           0       0.60      0.23      0.33        13\n",
      "           1       0.52      0.85      0.65        13\n",
      "\n",
      "    accuracy                           0.54        26\n",
      "   macro avg       0.56      0.54      0.49        26\n",
      "weighted avg       0.56      0.54      0.49        26\n",
      "\n"
     ]
    }
   ],
   "source": [
    "# Using best parameters\n",
    "DTC = DecisionTreeClassifier(criterion=\"gini\", splitter=\"random\", max_depth=3)\n",
    "evaluate(DTC)"
   ]
  },
  {
   "cell_type": "markdown",
   "id": "6d66b65a",
   "metadata": {},
   "source": [
    "**NOTE:**\n",
    "- Test accuracy and Training accuracy are both poor (in this iteration)\n",
    "- We also note that the accuracy scores fluctuate with each evaluation due to some inherent randomness in the approach to classification.\n",
    "    - To demonstrate, run the cell multiple times and observe the outcome changes.\n",
    "- This model displays the instability discussed in Section 3.0.3 above.\n",
    "- We may revisit this model later but will eliminate it for now."
   ]
  },
  {
   "cell_type": "code",
   "execution_count": 428,
   "id": "e177c227",
   "metadata": {},
   "outputs": [
    {
     "name": "stdout",
     "output_type": "stream",
     "text": [
      "Model: DTC.pkl saved.\n"
     ]
    }
   ],
   "source": [
    "# Save model\n",
    "save_model(DTC, \"DTC\")"
   ]
  },
  {
   "cell_type": "markdown",
   "id": "2c6bd13b",
   "metadata": {},
   "source": [
    "### Random forest"
   ]
  },
  {
   "cell_type": "code",
   "execution_count": 429,
   "id": "1c4ec0f8",
   "metadata": {},
   "outputs": [
    {
     "name": "stdout",
     "output_type": "stream",
     "text": [
      "Training accuracy:  0.95\n",
      "Test accuracy:  0.46153846153846156\n",
      "\n",
      " <<< -------------------------------------------------- >>> \n",
      "\n",
      "Confusion matrix:\n"
     ]
    },
    {
     "data": {
      "text/html": [
       "<div>\n",
       "<style scoped>\n",
       "    .dataframe tbody tr th:only-of-type {\n",
       "        vertical-align: middle;\n",
       "    }\n",
       "\n",
       "    .dataframe tbody tr th {\n",
       "        vertical-align: top;\n",
       "    }\n",
       "\n",
       "    .dataframe thead th {\n",
       "        text-align: right;\n",
       "    }\n",
       "</style>\n",
       "<table border=\"1\" class=\"dataframe\">\n",
       "  <thead>\n",
       "    <tr style=\"text-align: right;\">\n",
       "      <th></th>\n",
       "      <th>Predicted_0</th>\n",
       "      <th>Predicted_1</th>\n",
       "    </tr>\n",
       "  </thead>\n",
       "  <tbody>\n",
       "    <tr>\n",
       "      <th>Actual_0</th>\n",
       "      <td>5</td>\n",
       "      <td>8</td>\n",
       "    </tr>\n",
       "    <tr>\n",
       "      <th>Actual_1</th>\n",
       "      <td>6</td>\n",
       "      <td>7</td>\n",
       "    </tr>\n",
       "  </tbody>\n",
       "</table>\n",
       "</div>"
      ],
      "text/plain": [
       "          Predicted_0  Predicted_1\n",
       "Actual_0            5            8\n",
       "Actual_1            6            7"
      ]
     },
     "metadata": {},
     "output_type": "display_data"
    },
    {
     "name": "stdout",
     "output_type": "stream",
     "text": [
      "\n",
      " <<< -------------------------------------------------- >>> \n",
      "\n",
      "Classification report:\n",
      "              precision    recall  f1-score   support\n",
      "\n",
      "           0       0.45      0.38      0.42        13\n",
      "           1       0.47      0.54      0.50        13\n",
      "\n",
      "    accuracy                           0.46        26\n",
      "   macro avg       0.46      0.46      0.46        26\n",
      "weighted avg       0.46      0.46      0.46        26\n",
      "\n"
     ]
    }
   ],
   "source": [
    "# No tuning\n",
    "RF = RandomForestClassifier()\n",
    "evaluate(RF)"
   ]
  },
  {
   "cell_type": "markdown",
   "id": "abb6ae4e",
   "metadata": {},
   "source": [
    "#### Hyperparameter tuning"
   ]
  },
  {
   "cell_type": "code",
   "execution_count": 430,
   "id": "c0b10a38",
   "metadata": {},
   "outputs": [
    {
     "name": "stdout",
     "output_type": "stream",
     "text": [
      "Fitting 5 folds for each of 210 candidates, totalling 1050 fits\n",
      "\n",
      " <<< -------------------------------------------------- >>> \n",
      "\n",
      "Tuned model paramaters: {'criterion': 'gini', 'max_depth': 5, 'max_features': 'log2', 'n_estimators': 400}\n",
      "Tuned model best score: 0.67\n",
      "\n",
      " <<< -------------------------------------------------- >>> \n",
      "\n",
      "Training accuracy:  0.9\n",
      "Test accuracy:  0.5769230769230769\n",
      "\n",
      " <<< -------------------------------------------------- >>> \n",
      "\n",
      "Confusion matrix:\n"
     ]
    },
    {
     "data": {
      "text/html": [
       "<div>\n",
       "<style scoped>\n",
       "    .dataframe tbody tr th:only-of-type {\n",
       "        vertical-align: middle;\n",
       "    }\n",
       "\n",
       "    .dataframe tbody tr th {\n",
       "        vertical-align: top;\n",
       "    }\n",
       "\n",
       "    .dataframe thead th {\n",
       "        text-align: right;\n",
       "    }\n",
       "</style>\n",
       "<table border=\"1\" class=\"dataframe\">\n",
       "  <thead>\n",
       "    <tr style=\"text-align: right;\">\n",
       "      <th></th>\n",
       "      <th>Predicted_0</th>\n",
       "      <th>Predicted_1</th>\n",
       "    </tr>\n",
       "  </thead>\n",
       "  <tbody>\n",
       "    <tr>\n",
       "      <th>Actual_0</th>\n",
       "      <td>6</td>\n",
       "      <td>7</td>\n",
       "    </tr>\n",
       "    <tr>\n",
       "      <th>Actual_1</th>\n",
       "      <td>4</td>\n",
       "      <td>9</td>\n",
       "    </tr>\n",
       "  </tbody>\n",
       "</table>\n",
       "</div>"
      ],
      "text/plain": [
       "          Predicted_0  Predicted_1\n",
       "Actual_0            6            7\n",
       "Actual_1            4            9"
      ]
     },
     "metadata": {},
     "output_type": "display_data"
    },
    {
     "name": "stdout",
     "output_type": "stream",
     "text": [
      "\n",
      " <<< -------------------------------------------------- >>> \n",
      "\n",
      "Classification report:\n",
      "              precision    recall  f1-score   support\n",
      "\n",
      "           0       0.60      0.46      0.52        13\n",
      "           1       0.56      0.69      0.62        13\n",
      "\n",
      "    accuracy                           0.58        26\n",
      "   macro avg       0.58      0.58      0.57        26\n",
      "weighted avg       0.58      0.58      0.57        26\n",
      "\n"
     ]
    }
   ],
   "source": [
    "# 1\n",
    "RF = RandomForestClassifier()\n",
    "param_grid = {\"n_estimators\": range(100, 600, 100), \"max_features\": [\"auto\", \"sqrt\", \"log2\"],\n",
    "              \"max_depth\" : range(3, 10), \"criterion\" :[\"gini\", \"entropy\"]}\n",
    "\n",
    "model_cv = GridSearchCV(RF, param_grid, verbose=1, n_jobs=-1)\n",
    "model_cv.fit(X_train, y_train)\n",
    "barrier()\n",
    "print(f\"Tuned model paramaters: {model_cv.best_params_}\")\n",
    "print(f\"Tuned model best score: {model_cv.best_score_}\")\n",
    "barrier()\n",
    "evaluate_no_fit(model_cv.best_estimator_)"
   ]
  },
  {
   "cell_type": "code",
   "execution_count": 431,
   "id": "5ca41232",
   "metadata": {},
   "outputs": [
    {
     "name": "stdout",
     "output_type": "stream",
     "text": [
      "Mean of the standard deviations: 0.10077748178245162\n",
      "Std of the standard deviations: 0.022595703845074137\n",
      "\n",
      " <<< -------------------------------------------------- >>> \n",
      "\n"
     ]
    },
    {
     "data": {
      "image/png": "[encoded data removed]",
      "text/plain": [
       "<Figure size 640x480 with 1 Axes>"
      ]
     },
     "metadata": {},
     "output_type": "display_data"
    }
   ],
   "source": [
    "# Evaluate stds\n",
    "cv_std(model_cv)"
   ]
  },
  {
   "cell_type": "code",
   "execution_count": 432,
   "id": "44fc65c6",
   "metadata": {},
   "outputs": [
    {
     "name": "stdout",
     "output_type": "stream",
     "text": [
      "0.6153846153846154\n",
      "100_auto_3_gini\n"
     ]
    }
   ],
   "source": [
    "# 2\n",
    "n_estimators = range(100, 600, 100)\n",
    "max_features = [\"auto\", \"sqrt\", \"log2\"]\n",
    "max_depth = range(3, 10)\n",
    "criterion = [\"gini\", \"entropy\"]\n",
    "best_score = 0\n",
    "hyper_params = \"\"\n",
    "\n",
    "for n in n_estimators:\n",
    "    for m in max_features:\n",
    "        for d in max_depth:\n",
    "            for c in criterion:\n",
    "                RF = RandomForestClassifier(n_estimators=n, max_features=m, max_depth=d, criterion=c)\n",
    "                RF.fit(X_train, y_train)                   \n",
    "                y_pred = RF.predict(X_test)\n",
    "                if accuracy_score(y_test, y_pred) > best_score:\n",
    "                    best_score = accuracy_score(y_test, y_pred)\n",
    "                    hyper_params = str(n) + \"_\" + m + \"_\" + str(d) + \"_\" + c\n",
    "\n",
    "print(best_score)\n",
    "print(hyper_params)"
   ]
  },
  {
   "cell_type": "code",
   "execution_count": 433,
   "id": "9cf4b338",
   "metadata": {},
   "outputs": [
    {
     "name": "stdout",
     "output_type": "stream",
     "text": [
      "Training accuracy:  0.93\n",
      "Test accuracy:  0.5384615384615384\n",
      "\n",
      " <<< -------------------------------------------------- >>> \n",
      "\n",
      "Confusion matrix:\n"
     ]
    },
    {
     "data": {
      "text/html": [
       "<div>\n",
       "<style scoped>\n",
       "    .dataframe tbody tr th:only-of-type {\n",
       "        vertical-align: middle;\n",
       "    }\n",
       "\n",
       "    .dataframe tbody tr th {\n",
       "        vertical-align: top;\n",
       "    }\n",
       "\n",
       "    .dataframe thead th {\n",
       "        text-align: right;\n",
       "    }\n",
       "</style>\n",
       "<table border=\"1\" class=\"dataframe\">\n",
       "  <thead>\n",
       "    <tr style=\"text-align: right;\">\n",
       "      <th></th>\n",
       "      <th>Predicted_0</th>\n",
       "      <th>Predicted_1</th>\n",
       "    </tr>\n",
       "  </thead>\n",
       "  <tbody>\n",
       "    <tr>\n",
       "      <th>Actual_0</th>\n",
       "      <td>5</td>\n",
       "      <td>8</td>\n",
       "    </tr>\n",
       "    <tr>\n",
       "      <th>Actual_1</th>\n",
       "      <td>4</td>\n",
       "      <td>9</td>\n",
       "    </tr>\n",
       "  </tbody>\n",
       "</table>\n",
       "</div>"
      ],
      "text/plain": [
       "          Predicted_0  Predicted_1\n",
       "Actual_0            5            8\n",
       "Actual_1            4            9"
      ]
     },
     "metadata": {},
     "output_type": "display_data"
    },
    {
     "name": "stdout",
     "output_type": "stream",
     "text": [
      "\n",
      " <<< -------------------------------------------------- >>> \n",
      "\n",
      "Classification report:\n",
      "              precision    recall  f1-score   support\n",
      "\n",
      "           0       0.56      0.38      0.45        13\n",
      "           1       0.53      0.69      0.60        13\n",
      "\n",
      "    accuracy                           0.54        26\n",
      "   macro avg       0.54      0.54      0.53        26\n",
      "weighted avg       0.54      0.54      0.53        26\n",
      "\n"
     ]
    }
   ],
   "source": [
    "# Using best parameters\n",
    "RF = RandomForestClassifier(n_estimators=100, max_features=\"sqrt\", max_depth=7, criterion=\"gini\")\n",
    "evaluate(RF)"
   ]
  },
  {
   "cell_type": "markdown",
   "id": "95a3b957",
   "metadata": {},
   "source": [
    "**NOTE:**\n",
    "- Test accuracy (54%) is poor and significantly less than the training accuracy (93%).\n",
    "- This suggests overfitting.\n",
    "- Additionally, successive evaluations show the same instability seen in Decision Tree Classifier and discussed in Section 3.0.3 above.\n",
    "    - To demonstrate, run the cell multiple times and observe the outcome changes.\n",
    "- We may revisit this model later but will eliminate it for now."
   ]
  },
  {
   "cell_type": "code",
   "execution_count": 434,
   "id": "319089d9",
   "metadata": {},
   "outputs": [
    {
     "name": "stdout",
     "output_type": "stream",
     "text": [
      "Model: RF.pkl saved.\n"
     ]
    }
   ],
   "source": [
    "# Save model\n",
    "save_model(RF, \"RF\")"
   ]
  },
  {
   "cell_type": "markdown",
   "id": "3b77a879",
   "metadata": {},
   "source": [
    "### Stochastic gradient descent (SGD)"
   ]
  },
  {
   "cell_type": "markdown",
   "id": "12927bbb",
   "metadata": {},
   "source": [
    "#### Hyperparameter tuning"
   ]
  },
  {
   "cell_type": "code",
   "execution_count": 435,
   "id": "30fa5c8d",
   "metadata": {},
   "outputs": [
    {
     "name": "stdout",
     "output_type": "stream",
     "text": [
      "Fitting 5 folds for each of 75 candidates, totalling 375 fits\n",
      "\n",
      " <<< -------------------------------------------------- >>> \n",
      "\n",
      "Tuned model paramaters: {'alpha': 0.01, 'loss': 'perceptron', 'penalty': 'l1'}\n",
      "Tuned model best score: 0.5800000000000001\n",
      "\n",
      " <<< -------------------------------------------------- >>> \n",
      "\n",
      "Training accuracy:  0.56\n",
      "Test accuracy:  0.6538461538461539\n",
      "\n",
      " <<< -------------------------------------------------- >>> \n",
      "\n",
      "Confusion matrix:\n"
     ]
    },
    {
     "data": {
      "text/html": [
       "<div>\n",
       "<style scoped>\n",
       "    .dataframe tbody tr th:only-of-type {\n",
       "        vertical-align: middle;\n",
       "    }\n",
       "\n",
       "    .dataframe tbody tr th {\n",
       "        vertical-align: top;\n",
       "    }\n",
       "\n",
       "    .dataframe thead th {\n",
       "        text-align: right;\n",
       "    }\n",
       "</style>\n",
       "<table border=\"1\" class=\"dataframe\">\n",
       "  <thead>\n",
       "    <tr style=\"text-align: right;\">\n",
       "      <th></th>\n",
       "      <th>Predicted_0</th>\n",
       "      <th>Predicted_1</th>\n",
       "    </tr>\n",
       "  </thead>\n",
       "  <tbody>\n",
       "    <tr>\n",
       "      <th>Actual_0</th>\n",
       "      <td>7</td>\n",
       "      <td>6</td>\n",
       "    </tr>\n",
       "    <tr>\n",
       "      <th>Actual_1</th>\n",
       "      <td>3</td>\n",
       "      <td>10</td>\n",
       "    </tr>\n",
       "  </tbody>\n",
       "</table>\n",
       "</div>"
      ],
      "text/plain": [
       "          Predicted_0  Predicted_1\n",
       "Actual_0            7            6\n",
       "Actual_1            3           10"
      ]
     },
     "metadata": {},
     "output_type": "display_data"
    },
    {
     "name": "stdout",
     "output_type": "stream",
     "text": [
      "\n",
      " <<< -------------------------------------------------- >>> \n",
      "\n",
      "Classification report:\n",
      "              precision    recall  f1-score   support\n",
      "\n",
      "           0       0.70      0.54      0.61        13\n",
      "           1       0.62      0.77      0.69        13\n",
      "\n",
      "    accuracy                           0.65        26\n",
      "   macro avg       0.66      0.65      0.65        26\n",
      "weighted avg       0.66      0.65      0.65        26\n",
      "\n"
     ]
    }
   ],
   "source": [
    "# 1\n",
    "SGD = SGDClassifier()\n",
    "param_grid = {\"loss\": [\"hinge\", \"log\", \"modified_huber\", \"squared_hinge\", \"perceptron\"],\n",
    "              \"penalty\": [\"l2\", \"l1\", \"elasticnet\"], \"alpha\": [0.000001, 0.00001, 0.0001, 0.001, 0.01]}\n",
    "\n",
    "model_cv = GridSearchCV(SGD, param_grid, verbose=1, n_jobs=-1)\n",
    "model_cv.fit(X_train, y_train)\n",
    "barrier()\n",
    "print(f\"Tuned model paramaters: {model_cv.best_params_}\")\n",
    "print(f\"Tuned model best score: {model_cv.best_score_}\")\n",
    "barrier()\n",
    "evaluate_no_fit(model_cv.best_estimator_)"
   ]
  },
  {
   "cell_type": "code",
   "execution_count": 436,
   "id": "f59ac581",
   "metadata": {},
   "outputs": [
    {
     "name": "stdout",
     "output_type": "stream",
     "text": [
      "Mean of the standard deviations: 0.059482775754997316\n",
      "Std of the standard deviations: 0.021489518107223854\n",
      "\n",
      " <<< -------------------------------------------------- >>> \n",
      "\n"
     ]
    },
    {
     "data": {
      "image/png": "[encoded data removed]",
      "text/plain": [
       "<Figure size 640x480 with 1 Axes>"
      ]
     },
     "metadata": {},
     "output_type": "display_data"
    }
   ],
   "source": [
    "# Evaluate stds\n",
    "cv_std(model_cv)"
   ]
  },
  {
   "cell_type": "code",
   "execution_count": 437,
   "id": "4746912d",
   "metadata": {},
   "outputs": [
    {
     "name": "stdout",
     "output_type": "stream",
     "text": [
      "0.6923076923076923\n",
      "log_elasticnet_1e-05\n"
     ]
    }
   ],
   "source": [
    "# 2\n",
    "loss = [\"hinge\", \"log\", \"modified_huber\", \"squared_hinge\", \"perceptron\"]\n",
    "penalty = [\"l2\", \"l1\", \"elasticnet\"]\n",
    "alpha = [0.000001, 0.00001, 0.0001, 0.001, 0.01]\n",
    "best_score = 0\n",
    "hyper_params = \"\"\n",
    "\n",
    "for l in loss :\n",
    "    for p in penalty :\n",
    "        for a in alpha :\n",
    "            SGD = SGDClassifier(loss=l, penalty=p, alpha=a)\n",
    "            SGD.fit(X_train, y_train)\n",
    "            y_pred = SGD.predict(X_test)\n",
    "            if accuracy_score(y_test, y_pred) > best_score:\n",
    "                best_score = accuracy_score(y_test, y_pred)\n",
    "                hyper_params = l + \"_\" + p + \"_\" + str(a)\n",
    "\n",
    "print(best_score)\n",
    "print(hyper_params)"
   ]
  },
  {
   "cell_type": "code",
   "execution_count": 468,
   "id": "31539714",
   "metadata": {},
   "outputs": [
    {
     "name": "stdout",
     "output_type": "stream",
     "text": [
      "Training accuracy:  0.44\n",
      "Test accuracy:  0.5\n",
      "\n",
      " <<< -------------------------------------------------- >>> \n",
      "\n",
      "Confusion matrix:\n"
     ]
    },
    {
     "data": {
      "text/html": [
       "<div>\n",
       "<style scoped>\n",
       "    .dataframe tbody tr th:only-of-type {\n",
       "        vertical-align: middle;\n",
       "    }\n",
       "\n",
       "    .dataframe tbody tr th {\n",
       "        vertical-align: top;\n",
       "    }\n",
       "\n",
       "    .dataframe thead th {\n",
       "        text-align: right;\n",
       "    }\n",
       "</style>\n",
       "<table border=\"1\" class=\"dataframe\">\n",
       "  <thead>\n",
       "    <tr style=\"text-align: right;\">\n",
       "      <th></th>\n",
       "      <th>Predicted_0</th>\n",
       "      <th>Predicted_1</th>\n",
       "    </tr>\n",
       "  </thead>\n",
       "  <tbody>\n",
       "    <tr>\n",
       "      <th>Actual_0</th>\n",
       "      <td>13</td>\n",
       "      <td>0</td>\n",
       "    </tr>\n",
       "    <tr>\n",
       "      <th>Actual_1</th>\n",
       "      <td>13</td>\n",
       "      <td>0</td>\n",
       "    </tr>\n",
       "  </tbody>\n",
       "</table>\n",
       "</div>"
      ],
      "text/plain": [
       "          Predicted_0  Predicted_1\n",
       "Actual_0           13            0\n",
       "Actual_1           13            0"
      ]
     },
     "metadata": {},
     "output_type": "display_data"
    },
    {
     "name": "stdout",
     "output_type": "stream",
     "text": [
      "\n",
      " <<< -------------------------------------------------- >>> \n",
      "\n",
      "Classification report:\n",
      "              precision    recall  f1-score   support\n",
      "\n",
      "           0       0.50      1.00      0.67        13\n",
      "           1       0.00      0.00      0.00        13\n",
      "\n",
      "    accuracy                           0.50        26\n",
      "   macro avg       0.25      0.50      0.33        26\n",
      "weighted avg       0.25      0.50      0.33        26\n",
      "\n"
     ]
    }
   ],
   "source": [
    "# Using best parameters\n",
    "SGD = SGDClassifier(loss=\"modified_huber\", penalty=\"elasticnet\", alpha=0.01)\n",
    "evaluate(SGD)"
   ]
  },
  {
   "cell_type": "markdown",
   "id": "e9e2d1a9",
   "metadata": {},
   "source": [
    "**NOTE:**\n",
    "- Test accuracy (50%) and training accuracy (44%) are both poor.\n",
    "- This suggests that the model is a poor overall fit.\n",
    "- Additionally, successive evaluations show the same instability seen in Decision Tree Classifier, Random Forest Classifier and discussed in Section 3.0.3 above.\n",
    "    - To demonstrate, run the cell multiple times and observe the outcome changes.\n",
    "- We may revisit this model later but will eliminate it for now."
   ]
  },
  {
   "cell_type": "code",
   "execution_count": 439,
   "id": "1d2220e5",
   "metadata": {},
   "outputs": [
    {
     "name": "stdout",
     "output_type": "stream",
     "text": [
      "Model: SGD.pkl saved.\n"
     ]
    }
   ],
   "source": [
    "# Save model\n",
    "save_model(SGD, \"SGD\")"
   ]
  },
  {
   "cell_type": "markdown",
   "id": "4d9f4e28",
   "metadata": {},
   "source": [
    "### Inference"
   ]
  },
  {
   "cell_type": "markdown",
   "id": "93016d88",
   "metadata": {},
   "source": [
    "**We can infer:**\n",
    "- The best models are the KNN, XGBoost and SVM models.\n",
    "- There is some concern about the training accuracy of the SVM model (59%) which can be investigated further. However, the high test accuracy gives us confidence in the model.\n",
    "- The small sample size is a significant hindrance to improving accuracy. We will investigate getting more data from the client if possible.\n",
    "- There is an inherent instability present in some models which has caused us to eliminate them as viable options. For further exploration, they can be tuned using a different set or different range of parameters."
   ]
  },
  {
   "cell_type": "markdown",
   "id": "3a518fc9",
   "metadata": {},
   "source": [
    "**Going forward:**\n",
    "- It should be noted that low test accuracy by itself is not the ultimate arbiter of a lack of overfitting.\n",
    "    - It is possible that the individual folds may themselves be overfitting to the data and affecting the averaged overall score.\n",
    "    - We did some preliminary work on this by evaluating the mean, standard deviation and plots of the different score standard deviation values themselves.\n",
    "    - These are the standard deviations of the different parameter combinations/folds that arise when using GridSearchCV.\n",
    "    - This can be explored further.\n",
    "- If more data is made available, more models can be considered such as Deep learning models or other Ensemble models.\n",
    "- The models that came up top after using lazypredict can be explored (after tuning) further."
   ]
  },
  {
   "cell_type": "markdown",
   "id": "f435b07a",
   "metadata": {},
   "source": [
    "## Feature importance\n",
    "### Methodology\n",
    "There are many techniques for evaluating feature importance. The best method will ultimately depend on our data and our model(s). We will cover a few methods here, namely:\n",
    "1. Principal Component Analysis (PCA)\n",
    "2. Manually using model attributes\n",
    "3. Permutation feature importance\n",
    "4. Recursive Feature Elimination (RFE)\n",
    "5. The **SelectFromModel** library\n",
    "\n",
    "**NOTE:**\n",
    "- We will use only the KNN, XGB and SVM models for feature importance due to their positive performance and stability.\n",
    "- Additionally, we will clone the model (which preserves all internal parameters) to create a deep copy when needed."
   ]
  },
  {
   "cell_type": "code",
   "execution_count": 440,
   "id": "6606602c",
   "metadata": {},
   "outputs": [],
   "source": [
    "# Load saved models\n",
    "KNN_feat_imp = load_model(\"KNN.pkl\")\n",
    "XGB_feat_imp = load_model(\"XGB.pkl\")\n",
    "SVM_feat_imp = load_model(\"SVM.pkl\")"
   ]
  },
  {
   "cell_type": "markdown",
   "id": "5aed23f4",
   "metadata": {},
   "source": [
    "### Principal component analysis (PCA)\n",
    "- PCA provides **principal components** or **planes** that best represent the data based on the degree to which they \"explain\" the variance of that data.\n",
    "- These components have coefficients, the values of which can indicate how important each feature is to that component and, by extension, can tell us how well that feature explains the data."
   ]
  },
  {
   "cell_type": "code",
   "execution_count": 441,
   "id": "ad396c3a",
   "metadata": {},
   "outputs": [
    {
     "data": {
      "text/plain": [
       "Index(['X1', 'X2', 'X3', 'X4', 'X5', 'X6'], dtype='object')"
      ]
     },
     "execution_count": 441,
     "metadata": {},
     "output_type": "execute_result"
    }
   ],
   "source": [
    "features = X.columns\n",
    "features"
   ]
  },
  {
   "cell_type": "markdown",
   "id": "85e9cdf7",
   "metadata": {},
   "source": [
    "**NOTE:**\n",
    "As a reminder from the introduction, the features break down as follows:\n",
    "- Y = target attribute (Y) with values indicating 0 (unhappy) and 1 (happy) customers\n",
    "- X1 = my order was delivered on time\n",
    "- X2 = contents of my order was as I expected\n",
    "- X3 = I ordered everything I wanted to order\n",
    "- X4 = I paid a good price for my order\n",
    "- X5 = I am satisfied with my courier\n",
    "- X6 = the app makes ordering easy for me"
   ]
  },
  {
   "cell_type": "code",
   "execution_count": 442,
   "id": "110075e6",
   "metadata": {},
   "outputs": [
    {
     "data": {
      "text/plain": [
       "(126, 6)"
      ]
     },
     "metadata": {},
     "output_type": "display_data"
    },
    {
     "data": {
      "text/plain": [
       "(126, 6)"
      ]
     },
     "metadata": {},
     "output_type": "display_data"
    },
    {
     "data": {
      "text/plain": [
       "1.0779149471889745e-16"
      ]
     },
     "metadata": {},
     "output_type": "display_data"
    },
    {
     "data": {
      "text/plain": [
       "array([1., 1., 1., 1., 1., 1.])"
      ]
     },
     "metadata": {},
     "output_type": "display_data"
    },
    {
     "name": "stdout",
     "output_type": "stream",
     "text": [
      "\n",
      " <<< -------------------------------------------------- >>> \n",
      "\n"
     ]
    },
    {
     "data": {
      "text/html": [
       "<div>\n",
       "<style scoped>\n",
       "    .dataframe tbody tr th:only-of-type {\n",
       "        vertical-align: middle;\n",
       "    }\n",
       "\n",
       "    .dataframe tbody tr th {\n",
       "        vertical-align: top;\n",
       "    }\n",
       "\n",
       "    .dataframe thead th {\n",
       "        text-align: right;\n",
       "    }\n",
       "</style>\n",
       "<table border=\"1\" class=\"dataframe\">\n",
       "  <thead>\n",
       "    <tr style=\"text-align: right;\">\n",
       "      <th></th>\n",
       "      <th>0</th>\n",
       "      <th>1</th>\n",
       "      <th>2</th>\n",
       "      <th>3</th>\n",
       "      <th>4</th>\n",
       "      <th>5</th>\n",
       "    </tr>\n",
       "  </thead>\n",
       "  <tbody>\n",
       "    <tr>\n",
       "      <th>0</th>\n",
       "      <td>-1.67</td>\n",
       "      <td>0.42</td>\n",
       "      <td>-0.30</td>\n",
       "      <td>0.29</td>\n",
       "      <td>-1.44</td>\n",
       "      <td>-0.32</td>\n",
       "    </tr>\n",
       "    <tr>\n",
       "      <th>1</th>\n",
       "      <td>-1.67</td>\n",
       "      <td>-0.48</td>\n",
       "      <td>-0.30</td>\n",
       "      <td>1.44</td>\n",
       "      <td>0.31</td>\n",
       "      <td>-1.56</td>\n",
       "    </tr>\n",
       "    <tr>\n",
       "      <th>2</th>\n",
       "      <td>0.84</td>\n",
       "      <td>0.42</td>\n",
       "      <td>-0.30</td>\n",
       "      <td>-0.86</td>\n",
       "      <td>-0.57</td>\n",
       "      <td>0.93</td>\n",
       "    </tr>\n",
       "    <tr>\n",
       "      <th>3</th>\n",
       "      <td>0.84</td>\n",
       "      <td>1.32</td>\n",
       "      <td>-0.30</td>\n",
       "      <td>-0.86</td>\n",
       "      <td>-0.57</td>\n",
       "      <td>0.93</td>\n",
       "    </tr>\n",
       "    <tr>\n",
       "      <th>4</th>\n",
       "      <td>0.84</td>\n",
       "      <td>1.32</td>\n",
       "      <td>-0.30</td>\n",
       "      <td>-0.86</td>\n",
       "      <td>-0.57</td>\n",
       "      <td>0.93</td>\n",
       "    </tr>\n",
       "  </tbody>\n",
       "</table>\n",
       "</div>"
      ],
      "text/plain": [
       "      0     1     2     3     4     5\n",
       "0 -1.67  0.42 -0.30  0.29 -1.44 -0.32\n",
       "1 -1.67 -0.48 -0.30  1.44  0.31 -1.56\n",
       "2  0.84  0.42 -0.30 -0.86 -0.57  0.93\n",
       "3  0.84  1.32 -0.30 -0.86 -0.57  0.93\n",
       "4  0.84  1.32 -0.30 -0.86 -0.57  0.93"
      ]
     },
     "metadata": {},
     "output_type": "display_data"
    },
    {
     "name": "stdout",
     "output_type": "stream",
     "text": [
      "\n",
      " <<< -------------------------------------------------- >>> \n",
      "\n"
     ]
    },
    {
     "data": {
      "text/plain": [
       "array([0.36665419, 0.18936275, 0.1474559 , 0.11686753, 0.101142  ,\n",
       "       0.07851764])"
      ]
     },
     "metadata": {},
     "output_type": "display_data"
    },
    {
     "name": "stdout",
     "output_type": "stream",
     "text": [
      "\n",
      " <<< -------------------------------------------------- >>> \n",
      "\n"
     ]
    },
    {
     "data": {
      "image/png": "[encoded data removed]",
      "text/plain": [
       "<Figure size 640x480 with 1 Axes>"
      ]
     },
     "metadata": {},
     "output_type": "display_data"
    }
   ],
   "source": [
    "# StandardScaler\n",
    "scaler = StandardScaler()\n",
    "X_scaled = scaler.fit_transform(X)\n",
    "display(X.shape, X_scaled.shape, X_scaled.mean(axis=0).mean(), X_scaled.std(axis=0))\n",
    "barrier()\n",
    "display(pd.DataFrame(X_scaled).head())\n",
    "barrier()\n",
    "display(pca.explained_variance_ratio_)\n",
    "barrier()\n",
    "\n",
    "# PCA decomposition\n",
    "pca = PCA().fit(X_scaled)\n",
    "fig, ax = plt.subplots()\n",
    "x_values = range(1, pca.n_components_ + 1)\n",
    "ax.bar(x_values, pca.explained_variance_ratio_, lw=2, label=\"Explained Variance\")\n",
    "ax.plot(x_values,np.cumsum(pca.explained_variance_ratio_),lw=2,label=\"Cumulative Explained Variance\",color=\"red\")\n",
    "plt.plot([0, pca.n_components_+1], [0.9, 0.9], \"g--\")\n",
    "ax.set_title(\"Explained variance of components\")\n",
    "ax.set_xlabel(\"Principal Component\")\n",
    "ax.set_ylabel(\"Explained Variance\")\n",
    "plt.legend()\n",
    "plt.grid()\n",
    "plt.show()"
   ]
  },
  {
   "cell_type": "markdown",
   "id": "562b71fc",
   "metadata": {},
   "source": [
    "**NOTE:**\n",
    "- This suggests that the first principal component explains almost 37% of the variance in the data.\n",
    "- The second principal component explains about half of that at 18%."
   ]
  },
  {
   "cell_type": "code",
   "execution_count": 443,
   "id": "5a353b5d",
   "metadata": {},
   "outputs": [
    {
     "data": {
      "text/plain": [
       "array([0.36665419, 0.18936275, 0.1474559 , 0.11686753, 0.101142  ,\n",
       "       0.07851764])"
      ]
     },
     "metadata": {},
     "output_type": "display_data"
    },
    {
     "name": "stdout",
     "output_type": "stream",
     "text": [
      "\n",
      " <<< -------------------------------------------------- >>> \n",
      "\n"
     ]
    },
    {
     "data": {
      "text/plain": [
       "array([[-0.46727244, -0.1203438 , -0.44368484, -0.35866807, -0.50725474,\n",
       "        -0.42938029],\n",
       "       [-0.28358867,  0.73807312,  0.3166322 ,  0.32815824, -0.08454272,\n",
       "        -0.39966772],\n",
       "       [ 0.48229231,  0.50305971, -0.02927284, -0.71611697, -0.01343584,\n",
       "        -0.02154363],\n",
       "       [-0.00301495,  0.39110236, -0.53041915,  0.28248846, -0.34060822,\n",
       "         0.60817077],\n",
       "       [ 0.11244084,  0.11140388, -0.6468396 ,  0.17989817,  0.62209006,\n",
       "        -0.37038543],\n",
       "       [ 0.67525997, -0.14941383, -0.04780134,  0.37240138, -0.48203177,\n",
       "        -0.38519747]])"
      ]
     },
     "metadata": {},
     "output_type": "display_data"
    },
    {
     "name": "stdout",
     "output_type": "stream",
     "text": [
      "\n",
      " <<< -------------------------------------------------- >>> \n",
      "\n"
     ]
    },
    {
     "data": {
      "image/png": "[encoded data removed]",
      "text/plain": [
       "<Figure size 640x480 with 1 Axes>"
      ]
     },
     "metadata": {},
     "output_type": "display_data"
    }
   ],
   "source": [
    "# Coefficients of the first component\n",
    "display(pca.explained_variance_ratio_)\n",
    "barrier()\n",
    "display(pca.components_)\n",
    "barrier()\n",
    "\n",
    "comp_1 = pca.components_[0]\n",
    "plt.bar(features, abs(comp_1))\n",
    "plt.xlabel(\"Features\")\n",
    "plt.ylabel(\"Importance\")\n",
    "plt.title(\"Feature Importances\")\n",
    "plt.tight_layout()\n",
    "plt.show()"
   ]
  },
  {
   "cell_type": "markdown",
   "id": "c0700cd8",
   "metadata": {},
   "source": [
    "**NOTE:**\n",
    "- The feature with the highest coefficient int he first principal component is X5.\n",
    "- In general features X5, X1, X3 and X6 seem to be much higher than X2 which is significantly lower than the other features.\n",
    "- We will keep this in mind as we investigate further."
   ]
  },
  {
   "cell_type": "markdown",
   "id": "be0647f1",
   "metadata": {},
   "source": [
    "### Manually using model attributes\n",
    "- Certain methods of feature importance require the model to have a `coef_` or `feature_importances_` attribute.\n",
    "- The coefficients (from `coef_`) indicate which features get a heavier emphasis in making predictions while `feature_importances_` more directly indicates the weight given to each feature when making predictions.\n",
    "Tree based methods usually have the `feature_importances_` attribute.\n",
    "- We will write code to check for and plot these values."
   ]
  },
  {
   "cell_type": "code",
   "execution_count": 444,
   "id": "ea78d841",
   "metadata": {},
   "outputs": [],
   "source": [
    "# Check for attributes\n",
    "def attr_checker(model):\n",
    "    print(f\"feature_importances_ : {hasattr(model, 'feature_importances_')}\")\n",
    "    print(f\"coef_ : {hasattr(model, 'coef_')}\")\n",
    "\n",
    "# Plot model coefficients\n",
    "def feat_import(model):\n",
    "    importance = model.coef_\n",
    "    for i, v in zip(features, importance):\n",
    "        print(f\"Feature: {i}, Score: {v}\")\n",
    "    barrier()\n",
    "    plt.bar(features, importance)\n",
    "    plt.xlabel(\"Features\")\n",
    "    plt.ylabel(\"Importance\")\n",
    "    plt.title(\"Importance vs Features\")\n",
    "    plt.show()\n",
    "\n",
    "# Plot model feature importances\n",
    "def feat_import_tree(model):\n",
    "    importance = model.feature_importances_\n",
    "    for i, v in zip(features, importance):\n",
    "        print(f\"Feature: {i}, Score: {v}\")\n",
    "    barrier()\n",
    "    plt.bar(features, importance)\n",
    "    plt.xlabel(\"Features\")\n",
    "    plt.ylabel(\"Importance\")\n",
    "    plt.title(\"Importance vs Features\")\n",
    "    plt.show()"
   ]
  },
  {
   "cell_type": "code",
   "execution_count": 445,
   "id": "6e5c5d29",
   "metadata": {
    "scrolled": true
   },
   "outputs": [
    {
     "name": "stdout",
     "output_type": "stream",
     "text": [
      "feature_importances_ : False\n",
      "coef_ : False\n",
      "feature_importances_ : True\n",
      "coef_ : False\n",
      "feature_importances_ : False\n",
      "coef_ : False\n"
     ]
    }
   ],
   "source": [
    "# Check for coef_ and feature_importances_ attributes\n",
    "attr_checker(KNN_feat_imp)\n",
    "attr_checker(XGB_feat_imp)\n",
    "attr_checker(SVM_feat_imp)"
   ]
  },
  {
   "cell_type": "markdown",
   "id": "2382413a",
   "metadata": {},
   "source": [
    "**NOTE:**\n",
    "- The XGBoost model is the only model with either `coef_` or `feature_importances_` attribute."
   ]
  },
  {
   "cell_type": "code",
   "execution_count": 446,
   "id": "18b40455",
   "metadata": {},
   "outputs": [
    {
     "name": "stdout",
     "output_type": "stream",
     "text": [
      "Feature: X1, Score: 0.24487315118312836\n",
      "Feature: X2, Score: 0.0\n",
      "Feature: X3, Score: 0.25841403007507324\n",
      "Feature: X4, Score: 0.16518692672252655\n",
      "Feature: X5, Score: 0.14744596183300018\n",
      "Feature: X6, Score: 0.18407993018627167\n",
      "\n",
      " <<< -------------------------------------------------- >>> \n",
      "\n"
     ]
    },
    {
     "data": {
      "image/png": "[encoded data removed]",
      "text/plain": [
       "<Figure size 640x480 with 1 Axes>"
      ]
     },
     "metadata": {},
     "output_type": "display_data"
    }
   ],
   "source": [
    "feat_import_tree(XGB_feat_imp)"
   ]
  },
  {
   "cell_type": "markdown",
   "id": "2b9c2a86",
   "metadata": {},
   "source": [
    "- Like the first component on PCA, this seems to suggest that X1, X3, X4, X5, and X6 seem to be much higher than X2 which is significantly lower than the other features."
   ]
  },
  {
   "cell_type": "markdown",
   "id": "b41012c3",
   "metadata": {},
   "source": [
    "### Permutation feature importance\n",
    "- Permutation feature importance is a model inspection technique that measures the contribution of each feature to a fitted model’s statistical performance on a given tabular dataset.\n",
    "- This technique is particularly useful for non-linear or opaque estimators, and involves randomly shuffling the values of a single feature and observing the resulting degradation of the model’s score.\n",
    "- By breaking the relationship between the feature and the target, we determine how much the model relies on such particular feature. [1].\n",
    "\n",
    "**NOTE:**\n",
    "- Because of the random shuffling/permutation of the features and the relatively small data size, there will be variations between each successive execution of the permutation feature importance evaluation.\n",
    "- However, repeated executions demonstrate that certain features stand out more than others.\n",
    "\n",
    "**Ref:**\n",
    "1. https://scikit-learn.org/stable/modules/permutation_importance.html"
   ]
  },
  {
   "cell_type": "code",
   "execution_count": 447,
   "id": "fdf47830",
   "metadata": {},
   "outputs": [],
   "source": [
    "# Permutation feature importance\n",
    "def feat_import_perm(model):\n",
    "    results = permutation_importance(model, X_train, y_train, scoring=\"accuracy\")\n",
    "    importance = results.importances_mean\n",
    "    for i, v in zip(features, importance):\n",
    "        print(f\"Feature: {i}, Score: {v}\")\n",
    "    barrier()\n",
    "    plt.bar(features, importance)\n",
    "    plt.xlabel(\"Features\")\n",
    "    plt.ylabel(\"Importance\")\n",
    "    plt.title(\"Importance vs Features\")\n",
    "    plt.show()"
   ]
  },
  {
   "cell_type": "code",
   "execution_count": 448,
   "id": "79ea10d7",
   "metadata": {},
   "outputs": [
    {
     "name": "stdout",
     "output_type": "stream",
     "text": [
      "Feature: X1, Score: 0.03800000000000001\n",
      "Feature: X2, Score: -0.016000000000000014\n",
      "Feature: X3, Score: 0.11600000000000002\n",
      "Feature: X4, Score: 0.028000000000000004\n",
      "Feature: X5, Score: 0.040000000000000036\n",
      "Feature: X6, Score: 0.022\n",
      "\n",
      " <<< -------------------------------------------------- >>> \n",
      "\n"
     ]
    },
    {
     "data": {
      "image/png": "[encoded data removed]",
      "text/plain": [
       "<Figure size 640x480 with 1 Axes>"
      ]
     },
     "metadata": {},
     "output_type": "display_data"
    }
   ],
   "source": [
    "feat_import_perm(KNN_feat_imp)"
   ]
  },
  {
   "cell_type": "markdown",
   "id": "937efd7e",
   "metadata": {},
   "source": [
    "**NOTE:**\n",
    "- This suggests that X3, X2 and X6 are the most important features."
   ]
  },
  {
   "cell_type": "code",
   "execution_count": 449,
   "id": "3546cf15",
   "metadata": {},
   "outputs": [
    {
     "name": "stdout",
     "output_type": "stream",
     "text": [
      "Feature: X1, Score: 0.051999999999999935\n",
      "Feature: X2, Score: -0.010000000000000009\n",
      "Feature: X3, Score: 0.01399999999999999\n",
      "Feature: X4, Score: 0.0\n",
      "Feature: X5, Score: -0.014000000000000035\n",
      "Feature: X6, Score: 0.01799999999999995\n",
      "\n",
      " <<< -------------------------------------------------- >>> \n",
      "\n"
     ]
    },
    {
     "data": {
      "image/png": "[encoded data removed]",
      "text/plain": [
       "<Figure size 640x480 with 1 Axes>"
      ]
     },
     "metadata": {},
     "output_type": "display_data"
    }
   ],
   "source": [
    "feat_import_perm(SVM_feat_imp)"
   ]
  },
  {
   "cell_type": "markdown",
   "id": "7e64f7af",
   "metadata": {},
   "source": [
    "**NOTE:**\n",
    "- This suggests that X1, X5 and X6 are the most important features."
   ]
  },
  {
   "cell_type": "code",
   "execution_count": 450,
   "id": "66197abd",
   "metadata": {},
   "outputs": [
    {
     "name": "stdout",
     "output_type": "stream",
     "text": [
      "Feature: X1, Score: 0.13199999999999998\n",
      "Feature: X2, Score: 0.0\n",
      "Feature: X3, Score: 0.05399999999999994\n",
      "Feature: X4, Score: 0.016000000000000014\n",
      "Feature: X5, Score: 0.06799999999999998\n",
      "Feature: X6, Score: 0.0\n",
      "\n",
      " <<< -------------------------------------------------- >>> \n",
      "\n"
     ]
    },
    {
     "data": {
      "image/png": "[encoded data removed]",
      "text/plain": [
       "<Figure size 640x480 with 1 Axes>"
      ]
     },
     "metadata": {},
     "output_type": "display_data"
    }
   ],
   "source": [
    "feat_import_perm(XGB_feat_imp)"
   ]
  },
  {
   "cell_type": "markdown",
   "id": "382ffe2b",
   "metadata": {},
   "source": [
    "**NOTE:**\n",
    "- This suggests that X1, X3 and X5 are the most important features."
   ]
  },
  {
   "cell_type": "markdown",
   "id": "e3c1ff8d",
   "metadata": {},
   "source": [
    "### Recursive feature elimination (RFE)\n",
    "- The goal of recursive feature elimination (RFE) is to select features by recursively considering smaller and smaller sets of features.\n",
    "- First, the estimator is trained on the initial set of features and the importance of each feature is obtained through the model attributes.\n",
    "- Then, the least important features are pruned from current set of features.\n",
    "- That procedure is recursively repeated on the pruned set until the desired number of features to select is eventually reached [1].\n",
    "\n",
    "**NOTE:**\n",
    "- RFE will not work on the KNN model or the SVM model as they have neither a `coef_` or a `feature_importances_ ` attribute.\n",
    "- This rules out the KNN and SVM models but allows for the XGB model.\n",
    "\n",
    "**Ref:**\n",
    "1. https://scikit-learn.org/stable/modules/generated/sklearn.feature_selection.RFE.html"
   ]
  },
  {
   "cell_type": "code",
   "execution_count": 451,
   "id": "32cd2de8",
   "metadata": {},
   "outputs": [
    {
     "name": "stdout",
     "output_type": "stream",
     "text": [
      "1 X1\n",
      "2 X3\n",
      "3 X6\n",
      "4 X5\n",
      "5 X4\n",
      "6 X2\n"
     ]
    }
   ],
   "source": [
    "rfe = RFE(clone(XGB_feat_imp), n_features_to_select=1)\n",
    "rfe.fit(X_train, y_train)\n",
    "\n",
    "for i, j in (sorted(zip(rfe.ranking_ , features), key=itemgetter(0))):\n",
    "    print(i, j)"
   ]
  },
  {
   "cell_type": "markdown",
   "id": "9760122b",
   "metadata": {},
   "source": [
    "**NOTE:**\n",
    "- This suggests that the most important features, in order is X1, X3, X6, X5, X4 and X2."
   ]
  },
  {
   "cell_type": "markdown",
   "id": "18b6f00c",
   "metadata": {},
   "source": [
    "#### RFE cross validation (RFECV)\n",
    "- RFE cross validation (RFECV) combines the RFE above with cross validation and gives the best combination of features that maximizes the accuracy with the smallest possible number of features.\n",
    "- The number of features selected is tuned automatically by fitting an RFE selector on the different cross-validation splits (provided by the cv parameter).\n",
    "- The performance of the RFE selector are evaluated using scorer for different number of selected features and aggregated together.\n",
    "- Finally, the scores are averaged across folds and the number of features selected is set to the number of features that maximize the cross-validation score [1].\n",
    "\n",
    "**NOTE:**\n",
    "- Like RFE, RFECV will not work on the KNN model or the SVM model as they have neither a `coef_` or a `feature_importances_ attricbute`.\n",
    "- This rules out the KNN and SVM models but allows for the XGB model.\n",
    "\n",
    "**Ref:**\n",
    "1. https://scikit-learn.org/stable/modules/generated/sklearn.feature_selection.RFECV.html"
   ]
  },
  {
   "cell_type": "code",
   "execution_count": 452,
   "id": "d616b485",
   "metadata": {
    "scrolled": true
   },
   "outputs": [
    {
     "name": "stdout",
     "output_type": "stream",
     "text": [
      "Optimal number of features : 2\n",
      "Best features : Index(['X1', 'X3'], dtype='object')\n"
     ]
    }
   ],
   "source": [
    "rfecv = RFECV(estimator=clone(XGB_feat_imp), step=1, cv=5, scoring=\"accuracy\")\n",
    "rfecv = rfecv.fit(X_train, y_train)\n",
    "print(\"Optimal number of features :\", rfecv.n_features_)\n",
    "print(\"Best features :\", X_train.columns[rfecv.support_])"
   ]
  },
  {
   "cell_type": "markdown",
   "id": "74cd2ab2",
   "metadata": {},
   "source": [
    "**NOTE:**\n",
    "- This suggests that X1 and X3 are the most important features."
   ]
  },
  {
   "cell_type": "markdown",
   "id": "dbdce32b",
   "metadata": {},
   "source": [
    "### SelectFromModel\n",
    "- The `SelectFromModel` library is a meta-transformer for selecting features based on importance weights [1].\n",
    "\n",
    "**NOTE:**\n",
    "- Like RFE and RFECV, `SelectFromModel` will not work on the KNN model or the SVM model as they have neither a `coef_` or a `feature_importances_` attribute.\n",
    "- This rules out the KNN and SVM models but allows for the XGB model.\n",
    "\n",
    "**Ref:**\n",
    "1. https://scikit-learn.org/stable/modules/generated/sklearn.feature_selection.SelectFromModel.html"
   ]
  },
  {
   "cell_type": "code",
   "execution_count": 453,
   "id": "494f83dc",
   "metadata": {},
   "outputs": [
    {
     "name": "stdout",
     "output_type": "stream",
     "text": [
      "With 1 feature(s), Accuracy: 0.46153846153846156\n",
      "Features: ['X3']\n",
      "\n",
      " <<< -------------------------------------------------- >>> \n",
      "\n",
      "With 2 feature(s), Accuracy: 0.5769230769230769\n",
      "Features: ['X1', 'X3']\n",
      "\n",
      " <<< -------------------------------------------------- >>> \n",
      "\n",
      "With 3 feature(s), Accuracy: 0.6923076923076923\n",
      "Features: ['X1', 'X3', 'X6']\n",
      "\n",
      " <<< -------------------------------------------------- >>> \n",
      "\n",
      "With 4 feature(s), Accuracy: 0.6923076923076923\n",
      "Features: ['X1', 'X3', 'X6']\n",
      "\n",
      " <<< -------------------------------------------------- >>> \n",
      "\n",
      "With 5 feature(s), Accuracy: 0.6923076923076923\n",
      "Features: ['X1', 'X3', 'X6']\n",
      "\n",
      " <<< -------------------------------------------------- >>> \n",
      "\n",
      "With 6 feature(s), Accuracy: 0.6923076923076923\n",
      "Features: ['X1', 'X3', 'X6']\n",
      "\n",
      " <<< -------------------------------------------------- >>> \n",
      "\n"
     ]
    }
   ],
   "source": [
    "model = clone(XGB_feat_imp)\n",
    "\n",
    "def select_features(model, n):\n",
    "    fs = SelectFromModel(model, max_features=n)\n",
    "    fs.fit(X_train, y_train)\n",
    "    X_train_fs = fs.transform(X_train)\n",
    "    X_test_fs = fs.transform(X_test)\n",
    "    return X_train_fs, X_test_fs, fs\n",
    "\n",
    "for i in range(1, 7):\n",
    "    X_train_fs, X_test_fs, fs = select_features(model, i)\n",
    "    model.fit(X_train_fs, y_train)\n",
    "    y_pred = model.predict(X_test_fs)\n",
    "    accuracy = accuracy_score(y_test, y_pred)\n",
    "    print(f\"With {i} feature(s), Accuracy: {(accuracy)}\")\n",
    "    print(f\"Features: {features[fs.get_support()].to_list()}\")\n",
    "    barrier()"
   ]
  },
  {
   "cell_type": "markdown",
   "id": "6aa559c0",
   "metadata": {},
   "source": [
    "**NOTE:**\n",
    "- This suggests that the most important features appear to be X3, X1, X6 in that order.\n",
    "- There is negligible difference between using more than 3 (4, 5 or 6) features.\n",
    "- However, all accuracies are less than the best accuracies achieved by the best models which used all features."
   ]
  },
  {
   "cell_type": "code",
   "execution_count": null,
   "id": "575ffc9b",
   "metadata": {},
   "outputs": [],
   "source": []
  }
 ],
 "metadata": {
  "kernelspec": {
   "display_name": "Python 3 (ipykernel)",
   "language": "python",
   "name": "python3"
  },
  "language_info": {
   "codemirror_mode": {
    "name": "ipython",
    "version": 3
   },
   "file_extension": ".py",
   "mimetype": "text/x-python",
   "name": "python",
   "nbconvert_exporter": "python",
   "pygments_lexer": "ipython3",
   "version": "3.11.7"
  },
  "toc": {
   "base_numbering": 1,
   "nav_menu": {},
   "number_sections": true,
   "sideBar": true,
   "skip_h1_title": true,
   "title_cell": "Table of Contents",
   "title_sidebar": "Contents",
   "toc_cell": false,
   "toc_position": {
    "height": "calc(100% - 180px)",
    "left": "10px",
    "top": "150px",
    "width": "317.891px"
   },
   "toc_section_display": true,
   "toc_window_display": true
  },
  "varInspector": {
   "cols": {
    "lenName": 16,
    "lenType": 16,
    "lenVar": 40
   },
   "kernels_config": {
    "python": {
     "delete_cmd_postfix": "",
     "delete_cmd_prefix": "del ",
     "library": "var_list.py",
     "varRefreshCmd": "print(var_dic_list())"
    },
    "r": {
     "delete_cmd_postfix": ") ",
     "delete_cmd_prefix": "rm(",
     "library": "var_list.r",
     "varRefreshCmd": "cat(var_dic_list()) "
    }
   },
   "types_to_exclude": [
    "module",
    "function",
    "builtin_function_or_method",
    "instance",
    "_Feature"
   ],
   "window_display": false
  }
 },
 "nbformat": 4,
 "nbformat_minor": 5
}
